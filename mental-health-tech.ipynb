{
 "cells": [
  {
   "cell_type": "markdown",
   "id": "7073fc5b-4e43-4348-bdc2-fa5318a0b6ff",
   "metadata": {},
   "source": [
    "## Introduction\n",
    "\n",
    "\n",
    "\n"
   ]
  },
  {
   "cell_type": "markdown",
   "id": "4ff12dbc-60a2-4282-8fb1-527f066f6f8a",
   "metadata": {},
   "source": [
    "## Investigation of Data Source"
   ]
  },
  {
   "cell_type": "markdown",
   "id": "6e505dec-755a-48d7-9b3b-f382d7deef4c",
   "metadata": {},
   "source": [
    "This database is downloaded from https://www.kaggle.com/anth7310/mental-health-in-the-tech-industry. In the description of this Kaggle database, we're told the following:\n",
    "- The data is from Open Source Mental Illness (OMSI) using survey data from 2014 to 2019.\n",
    "- The data has been modified by grouping similar questions together.\n",
    "- Values in the answers table were changed to be more consistent (i.e. the value of 1 may have also appeared as 1.0) These have been formalised to be integers.\n",
    "- Spelling errors were fixed.\n",
    "\n",
    "Before we begin exploring the data, I took a look at the website where the data was collected https://osmihelp.org/research. Here it lists one survey conducted each year, ranging from 2014 to 2020, as well as the option to partake in the 2021 survey. All these surveys are covering the same topic, 'Attitudes Towards Mental Health in the Tech Workplace'. \n",
    "\n",
    "The Kaggle Database we're investigating was uploaded in September 2020, which means the results for the 2020 survey hadn't been released yet. Now that they have and are available to download, I plan to also add these to our analysis in the same way the other surveys have been. To do this I'll download an earlier dataset and compare it to how it's transformed into it's form in the Kaggle datasets.\n",
    "\n",
    "The first and largest of the surveys (2014) has 2 video links that used this data:\n",
    "- Mental Health in the Tech Industry | Ed Finkler | Talks at Google: https://www.youtube.com/watch?v=NHulgcO_16U&list=PL1MEC8mwrpaIdzYKRidvNB5eYSwWrqFZ3\n",
    "- Supporting Mental Health in the Workplace: Creating a Culture of Support: https://www.youtube.com/watch?v=-RCScR9xDQw&list=PL1MEC8mwrpaKCW8piX6mntf6-620Efncf\n",
    "\n",
    "I watched through both of these videos to get a better perspective of the topic surrounding the data before digging into it.\n",
    "\n",
    "Another crucial finding is that this site also has a 'Basic Report' for every completed survey. these basic reports show every question and the percentages of answers selected. Take a look at the 2020 Basic Report here: https://osmi.typeform.com/report/A7mlxC/itVHRYbNRnPqDI9C.\n",
    "\n",
    "Due to these reports being available, I'm not going to focus much on the distributions of answers and focus on specific trends we see instead.\n",
    "\n"
   ]
  },
  {
   "cell_type": "markdown",
   "id": "11cad29a-140a-4276-8876-fa47368dc593",
   "metadata": {},
   "source": [
    "## The Kaggle Dataset"
   ]
  },
  {
   "cell_type": "code",
   "execution_count": 1,
   "id": "b27581e1-e3f6-4145-9608-c57960563abe",
   "metadata": {},
   "outputs": [],
   "source": [
    "import sqlite3 as sql\n",
    "import pandas as pd"
   ]
  },
  {
   "cell_type": "markdown",
   "id": "80758e51-7aff-41d2-9089-b504a3b38c02",
   "metadata": {},
   "source": [
    "The database **mental_health** contains the following datasets:\n",
    "- Answer - (PRIMARY/FOREIGN KEY SurveyID, PRIMARY KEY UserID, PRIMARY/FOREIGN KEY QuestionID, TEXT AnswerText)\n",
    "- Question - (PRIMARY KEY QuestionID, TEXT QuestionText)\n",
    "- Survey - (PRIMARY KEY INT SurveyID, TEXT Description)"
   ]
  },
  {
   "cell_type": "code",
   "execution_count": 2,
   "id": "c631fe58-51ed-44cc-a4db-093a2a1ff5e3",
   "metadata": {},
   "outputs": [],
   "source": [
    "conn = sql.connect('data/mental_health.sqlite')"
   ]
  },
  {
   "cell_type": "code",
   "execution_count": 3,
   "id": "201315ea-8528-49b1-bf98-0abe847d2973",
   "metadata": {},
   "outputs": [],
   "source": [
    "answer = pd.read_sql('SELECT * FROM Answer', conn)\n",
    "question = pd.read_sql('SELECT * FROM Question', conn)\n",
    "survey = pd.read_sql('SELECT * FROM Survey', conn)"
   ]
  }
 ],
 "metadata": {
  "kernelspec": {
   "display_name": "Python 3",
   "language": "python",
   "name": "python3"
  },
  "language_info": {
   "codemirror_mode": {
    "name": "ipython",
    "version": 3
   },
   "file_extension": ".py",
   "mimetype": "text/x-python",
   "name": "python",
   "nbconvert_exporter": "python",
   "pygments_lexer": "ipython3",
   "version": "3.9.5"
  },
  "toc-autonumbering": false
 },
 "nbformat": 4,
 "nbformat_minor": 5
}
