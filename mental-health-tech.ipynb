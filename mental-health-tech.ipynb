{
 "cells": [
  {
   "cell_type": "markdown",
   "id": "f707dcd0-99eb-4432-9cf2-51938e3043a2",
   "metadata": {},
   "source": [
    "## Introduction\n",
    "\n"
   ]
  },
  {
   "cell_type": "markdown",
   "id": "550e18a0-06ac-41b7-97fa-68caaedd1618",
   "metadata": {},
   "source": [
    "In this EDA I use sqlite and pandas to perform EDA on the Mental Health in Tech Database from Kaggle and practice applying statistical inference procedures. I look at survey data from 2014 to 2020 and create visualitions to see the distribution of survey answers for the most popular questions. Towards the end of the analysis I pose an interesting question about the data and we find a result."
   ]
  },
  {
   "cell_type": "markdown",
   "id": "4ff12dbc-60a2-4282-8fb1-527f066f6f8a",
   "metadata": {},
   "source": [
    "## Investigation of Data Source"
   ]
  },
  {
   "cell_type": "markdown",
   "id": "6e505dec-755a-48d7-9b3b-f382d7deef4c",
   "metadata": {},
   "source": [
    "This database is downloaded from https://www.kaggle.com/anth7310/mental-health-in-the-tech-industry. In the description of this Kaggle database, we're told the following:\n",
    "- The data is from Open Source Mental Illness (OMSI) using survey data from 2014 to 2019.\n",
    "- The data has been modified by grouping similar questions together.\n",
    "- Values in the answers table were changed to be more consistent (i.e. the value of 1 may have also appeared as 1.0) These have been formalised to be integers.\n",
    "- Spelling errors were fixed.\n",
    "\n",
    "Before we begin exploring the data, I took a look at the website where the data was collected https://osmihelp.org/research. Here it lists one survey conducted each year, ranging from 2014 to 2020, as well as the option to partake in the 2021 survey. All these surveys are covering the same topic, 'Attitudes Towards Mental Health in the Tech Workplace'. \n",
    "\n",
    "The first and largest of the surveys (2014) has 2 video links that used this data:\n",
    "- Mental Health in the Tech Industry | Ed Finkler | Talks at Google: https://www.youtube.com/watch?v=NHulgcO_16U&list=PL1MEC8mwrpaIdzYKRidvNB5eYSwWrqFZ3\n",
    "- Supporting Mental Health in the Workplace: Creating a Culture of Support: https://www.youtube.com/watch?v=-RCScR9xDQw&list=PL1MEC8mwrpaKCW8piX6mntf6-620Efncf\n",
    "\n",
    "I watched through both of these videos to get a better perspective of the topic surrounding the data before digging into it.\n",
    "\n",
    "When you go to take a survey, it states 'All responses are anonymous, and no identifying information will be collected or stored.'. However, we see that the table with answers stores the user ID for each answer, which allows for data re-identification. So we cannot work with these user ids.\n",
    "\n",
    "The OSMI website also has the dataset available for the 2020 survey, so I'll be adding it to the analysis."
   ]
  },
  {
   "cell_type": "code",
   "execution_count": 1,
   "id": "b0016e53-533b-4f21-9702-9f48656a686d",
   "metadata": {},
   "outputs": [],
   "source": [
    "%load_ext lab_black"
   ]
  },
  {
   "cell_type": "markdown",
   "id": "11cad29a-140a-4276-8876-fa47368dc593",
   "metadata": {},
   "source": [
    "## Looking at the Data"
   ]
  },
  {
   "cell_type": "code",
   "execution_count": 2,
   "id": "b27581e1-e3f6-4145-9608-c57960563abe",
   "metadata": {},
   "outputs": [],
   "source": [
    "import sqlite3 as sql\n",
    "import pandas as pd\n",
    "import numpy as np\n",
    "import matplotlib.pyplot as plt\n",
    "import seaborn as sns\n",
    "from scipy import stats"
   ]
  },
  {
   "cell_type": "code",
   "execution_count": 3,
   "id": "30883ffd-6b1f-40ce-ae86-9af1aeec97c6",
   "metadata": {},
   "outputs": [],
   "source": [
    "pd.set_option(\"display.max_rows\", 500)\n",
    "pd.set_option(\"display.max_colwidth\", None)\n",
    "sns.set_style(\"darkgrid\")\n",
    "sns.set(rc={\"figure.figsize\": (10, 10)})"
   ]
  },
  {
   "cell_type": "markdown",
   "id": "80758e51-7aff-41d2-9089-b504a3b38c02",
   "metadata": {},
   "source": [
    "The database **mental_health** contains the following datasets:\n",
    "- Answer - (PRIMARY/FOREIGN KEY SurveyID, PRIMARY KEY UserID, PRIMARY/FOREIGN KEY QuestionID, TEXT AnswerText)\n",
    "- Question - (PRIMARY KEY QuestionID, TEXT QuestionText)\n",
    "- Survey - (PRIMARY KEY INT SurveyID, TEXT Description)"
   ]
  },
  {
   "cell_type": "markdown",
   "id": "95595780-7836-4835-a0cc-3ac1c5c52e6a",
   "metadata": {},
   "source": [
    "I need to load the database with SQLite"
   ]
  },
  {
   "cell_type": "code",
   "execution_count": 4,
   "id": "c631fe58-51ed-44cc-a4db-093a2a1ff5e3",
   "metadata": {},
   "outputs": [],
   "source": [
    "conn = sql.connect(\"data/mental_health.sqlite\")"
   ]
  },
  {
   "cell_type": "code",
   "execution_count": 5,
   "id": "fb8fa5f6-c6cc-4ec1-95fd-ba6afc9b7dd1",
   "metadata": {},
   "outputs": [
    {
     "data": {
      "text/html": [
       "<div>\n",
       "<style scoped>\n",
       "    .dataframe tbody tr th:only-of-type {\n",
       "        vertical-align: middle;\n",
       "    }\n",
       "\n",
       "    .dataframe tbody tr th {\n",
       "        vertical-align: top;\n",
       "    }\n",
       "\n",
       "    .dataframe thead th {\n",
       "        text-align: right;\n",
       "    }\n",
       "</style>\n",
       "<table border=\"1\" class=\"dataframe\">\n",
       "  <thead>\n",
       "    <tr style=\"text-align: right;\">\n",
       "      <th></th>\n",
       "      <th>AnswerText</th>\n",
       "      <th>SurveyID</th>\n",
       "      <th>UserID</th>\n",
       "      <th>QuestionID</th>\n",
       "    </tr>\n",
       "  </thead>\n",
       "  <tbody>\n",
       "    <tr>\n",
       "      <th>0</th>\n",
       "      <td>37</td>\n",
       "      <td>2014</td>\n",
       "      <td>1</td>\n",
       "      <td>1</td>\n",
       "    </tr>\n",
       "    <tr>\n",
       "      <th>1</th>\n",
       "      <td>44</td>\n",
       "      <td>2014</td>\n",
       "      <td>2</td>\n",
       "      <td>1</td>\n",
       "    </tr>\n",
       "    <tr>\n",
       "      <th>2</th>\n",
       "      <td>32</td>\n",
       "      <td>2014</td>\n",
       "      <td>3</td>\n",
       "      <td>1</td>\n",
       "    </tr>\n",
       "    <tr>\n",
       "      <th>3</th>\n",
       "      <td>31</td>\n",
       "      <td>2014</td>\n",
       "      <td>4</td>\n",
       "      <td>1</td>\n",
       "    </tr>\n",
       "    <tr>\n",
       "      <th>4</th>\n",
       "      <td>31</td>\n",
       "      <td>2014</td>\n",
       "      <td>5</td>\n",
       "      <td>1</td>\n",
       "    </tr>\n",
       "  </tbody>\n",
       "</table>\n",
       "</div>"
      ],
      "text/plain": [
       "  AnswerText  SurveyID  UserID  QuestionID\n",
       "0         37      2014       1           1\n",
       "1         44      2014       2           1\n",
       "2         32      2014       3           1\n",
       "3         31      2014       4           1\n",
       "4         31      2014       5           1"
      ]
     },
     "execution_count": 5,
     "metadata": {},
     "output_type": "execute_result"
    }
   ],
   "source": [
    "pd.read_sql(\"SELECT * FROM Answer LIMIT 5\", conn)"
   ]
  },
  {
   "cell_type": "code",
   "execution_count": 6,
   "id": "1301c6e7-63b0-4226-8dd7-636f82179a75",
   "metadata": {},
   "outputs": [
    {
     "data": {
      "text/html": [
       "<div>\n",
       "<style scoped>\n",
       "    .dataframe tbody tr th:only-of-type {\n",
       "        vertical-align: middle;\n",
       "    }\n",
       "\n",
       "    .dataframe tbody tr th {\n",
       "        vertical-align: top;\n",
       "    }\n",
       "\n",
       "    .dataframe thead th {\n",
       "        text-align: right;\n",
       "    }\n",
       "</style>\n",
       "<table border=\"1\" class=\"dataframe\">\n",
       "  <thead>\n",
       "    <tr style=\"text-align: right;\">\n",
       "      <th></th>\n",
       "      <th>questiontext</th>\n",
       "      <th>questionid</th>\n",
       "    </tr>\n",
       "  </thead>\n",
       "  <tbody>\n",
       "    <tr>\n",
       "      <th>0</th>\n",
       "      <td>What is your age?</td>\n",
       "      <td>1</td>\n",
       "    </tr>\n",
       "    <tr>\n",
       "      <th>1</th>\n",
       "      <td>What is your gender?</td>\n",
       "      <td>2</td>\n",
       "    </tr>\n",
       "    <tr>\n",
       "      <th>2</th>\n",
       "      <td>What country do you live in?</td>\n",
       "      <td>3</td>\n",
       "    </tr>\n",
       "    <tr>\n",
       "      <th>3</th>\n",
       "      <td>If you live in the United States, which state or territory do you live in?</td>\n",
       "      <td>4</td>\n",
       "    </tr>\n",
       "    <tr>\n",
       "      <th>4</th>\n",
       "      <td>Are you self-employed?</td>\n",
       "      <td>5</td>\n",
       "    </tr>\n",
       "  </tbody>\n",
       "</table>\n",
       "</div>"
      ],
      "text/plain": [
       "                                                                 questiontext  \\\n",
       "0                                                           What is your age?   \n",
       "1                                                        What is your gender?   \n",
       "2                                                What country do you live in?   \n",
       "3  If you live in the United States, which state or territory do you live in?   \n",
       "4                                                      Are you self-employed?   \n",
       "\n",
       "   questionid  \n",
       "0           1  \n",
       "1           2  \n",
       "2           3  \n",
       "3           4  \n",
       "4           5  "
      ]
     },
     "execution_count": 6,
     "metadata": {},
     "output_type": "execute_result"
    }
   ],
   "source": [
    "pd.read_sql(\"SELECT * FROM Question LIMIT 5\", conn)"
   ]
  },
  {
   "cell_type": "code",
   "execution_count": 7,
   "id": "b80b3d47-5501-4ee3-9cf1-1c293f5e989f",
   "metadata": {},
   "outputs": [
    {
     "data": {
      "text/html": [
       "<div>\n",
       "<style scoped>\n",
       "    .dataframe tbody tr th:only-of-type {\n",
       "        vertical-align: middle;\n",
       "    }\n",
       "\n",
       "    .dataframe tbody tr th {\n",
       "        vertical-align: top;\n",
       "    }\n",
       "\n",
       "    .dataframe thead th {\n",
       "        text-align: right;\n",
       "    }\n",
       "</style>\n",
       "<table border=\"1\" class=\"dataframe\">\n",
       "  <thead>\n",
       "    <tr style=\"text-align: right;\">\n",
       "      <th></th>\n",
       "      <th>SurveyID</th>\n",
       "      <th>Description</th>\n",
       "    </tr>\n",
       "  </thead>\n",
       "  <tbody>\n",
       "    <tr>\n",
       "      <th>0</th>\n",
       "      <td>2014</td>\n",
       "      <td>mental health survey for 2014</td>\n",
       "    </tr>\n",
       "    <tr>\n",
       "      <th>1</th>\n",
       "      <td>2016</td>\n",
       "      <td>mental health survey for 2016</td>\n",
       "    </tr>\n",
       "    <tr>\n",
       "      <th>2</th>\n",
       "      <td>2017</td>\n",
       "      <td>mental health survey for 2017</td>\n",
       "    </tr>\n",
       "    <tr>\n",
       "      <th>3</th>\n",
       "      <td>2018</td>\n",
       "      <td>mental health survey for 2018</td>\n",
       "    </tr>\n",
       "    <tr>\n",
       "      <th>4</th>\n",
       "      <td>2019</td>\n",
       "      <td>mental health survey for 2019</td>\n",
       "    </tr>\n",
       "  </tbody>\n",
       "</table>\n",
       "</div>"
      ],
      "text/plain": [
       "   SurveyID                    Description\n",
       "0      2014  mental health survey for 2014\n",
       "1      2016  mental health survey for 2016\n",
       "2      2017  mental health survey for 2017\n",
       "3      2018  mental health survey for 2018\n",
       "4      2019  mental health survey for 2019"
      ]
     },
     "execution_count": 7,
     "metadata": {},
     "output_type": "execute_result"
    }
   ],
   "source": [
    "pd.read_sql(\"SELECT * FROM Survey\", conn)"
   ]
  },
  {
   "cell_type": "markdown",
   "id": "2eab2099-60e5-4e25-b20a-fa5daf35995a",
   "metadata": {},
   "source": [
    "I'm going to join these 2 tables together"
   ]
  },
  {
   "cell_type": "code",
   "execution_count": 8,
   "id": "67715c14-8312-44cc-83c0-0a2cbb67c6a4",
   "metadata": {},
   "outputs": [
    {
     "data": {
      "text/plain": [
       "105"
      ]
     },
     "execution_count": 8,
     "metadata": {},
     "output_type": "execute_result"
    }
   ],
   "source": [
    "mental_health = pd.read_sql(\n",
    "    f\"\"\"\n",
    "       SELECT surveyID survey_id, questiontext question, AnswerText answer\n",
    "       FROM Answer\n",
    "       INNER JOIN Question\n",
    "       ON Answer.QuestionID = Question.questionid\n",
    "       \"\"\",\n",
    "    conn,\n",
    ")\n",
    "mental_health.head()\n",
    "all_questions = mental_health[\"question\"].unique()\n",
    "len(all_questions)"
   ]
  },
  {
   "cell_type": "markdown",
   "id": "c4a0bf4e-23ea-46ae-948d-30a407b07e4d",
   "metadata": {},
   "source": [
    "Since there's 105 questions, we'll only look at the ones that were answered most"
   ]
  },
  {
   "cell_type": "code",
   "execution_count": 9,
   "id": "8f4f2392-6659-4537-8506-d4009bb6e661",
   "metadata": {},
   "outputs": [
    {
     "data": {
      "text/plain": [
       "['Have you ever sought treatment for a mental health disorder from a mental health professional?',\n",
       " 'Does your employer provide mental health benefits as part of healthcare coverage?',\n",
       " 'If you live in the United States, which state or territory do you live in?',\n",
       " 'How many employees does your company or organization have?',\n",
       " 'What is your gender?',\n",
       " 'What country do you live in?',\n",
       " 'Is your anonymity protected if you choose to take advantage of mental health or substance abuse treatment resources provided by your employer?',\n",
       " 'What is your age?',\n",
       " 'Is your employer primarily a tech company/organization?',\n",
       " 'Do you have a family history of mental illness?',\n",
       " 'Would you bring up a mental health issue with a potential employer in an interview?',\n",
       " 'Are you self-employed?']"
      ]
     },
     "execution_count": 9,
     "metadata": {},
     "output_type": "execute_result"
    }
   ],
   "source": [
    "num_of_answers = mental_health[\"question\"].value_counts()\n",
    "questions = num_of_answers[\n",
    "    num_of_answers.values == num_of_answers.values.max()\n",
    "].index.to_list()\n",
    "questions"
   ]
  },
  {
   "cell_type": "markdown",
   "id": "1d5f6765-5a04-4b28-b910-fe093f24e9d7",
   "metadata": {},
   "source": [
    "We'll check for NA values but no need to check duplicates as it's likely the survey has a lot"
   ]
  },
  {
   "cell_type": "code",
   "execution_count": 10,
   "id": "b9d0c4b2-3a14-4b94-8459-459ca1af0e97",
   "metadata": {},
   "outputs": [
    {
     "data": {
      "text/plain": [
       "survey_id    0\n",
       "question     0\n",
       "answer       0\n",
       "dtype: int64"
      ]
     },
     "execution_count": 10,
     "metadata": {},
     "output_type": "execute_result"
    }
   ],
   "source": [
    "mental_health.isna().sum()"
   ]
  },
  {
   "cell_type": "markdown",
   "id": "64656388-29b3-47b0-8b53-a6dbfd50d8de",
   "metadata": {},
   "source": [
    "The survey could still be using a different value for NA, so we need to check what the most common answers are because if there was a different NA value being used, there's a good chance it will be one of the most common answers."
   ]
  },
  {
   "cell_type": "code",
   "execution_count": 11,
   "id": "bf1df360-187e-4805-9d51-f6158887cc83",
   "metadata": {},
   "outputs": [
    {
     "data": {
      "text/plain": [
       "['-1', 'No', 'Yes', '1', '0']"
      ]
     },
     "execution_count": 11,
     "metadata": {},
     "output_type": "execute_result"
    }
   ],
   "source": [
    "mental_health[\"answer\"].value_counts().index.to_list()[:5]"
   ]
  },
  {
   "cell_type": "markdown",
   "id": "4421f55b-5370-4ec0-922d-ffd89b77269e",
   "metadata": {},
   "source": [
    "'-1' is the most used response so it's probably used as a null substitute. We'll remove all rows with this value."
   ]
  },
  {
   "cell_type": "code",
   "execution_count": 12,
   "id": "de48767a-6e15-43fa-849e-fa4966e724bf",
   "metadata": {},
   "outputs": [
    {
     "name": "stdout",
     "output_type": "stream",
     "text": [
      "Rows before: 236898 \n",
      "Rows after: 180300\n"
     ]
    }
   ],
   "source": [
    "rows_before = len(mental_health)\n",
    "mental_health = mental_health[mental_health[\"answer\"] != \"-1\"]\n",
    "rows_after = len(mental_health)\n",
    "print(f\"Rows before: {rows_before} \\nRows after: {rows_after}\")"
   ]
  },
  {
   "cell_type": "markdown",
   "id": "84d0f7d1-9752-43e1-9109-2784cb05d1e8",
   "metadata": {},
   "source": [
    "Number of questions"
   ]
  },
  {
   "cell_type": "code",
   "execution_count": 13,
   "id": "46c380ea-64f1-4492-87ca-69f8261e252e",
   "metadata": {},
   "outputs": [
    {
     "data": {
      "text/plain": [
       "104"
      ]
     },
     "execution_count": 13,
     "metadata": {},
     "output_type": "execute_result"
    }
   ],
   "source": [
    "mental_health[\"question\"].nunique()"
   ]
  },
  {
   "cell_type": "markdown",
   "id": "ec68238b-bcb8-4844-adbe-071cccbc4dca",
   "metadata": {},
   "source": [
    "## Exploring the Most Answered Questions"
   ]
  },
  {
   "cell_type": "code",
   "execution_count": 14,
   "id": "afc71752-d5a4-4be1-84a1-370152213286",
   "metadata": {},
   "outputs": [],
   "source": [
    "def get_answers(question):\n",
    "    return (\n",
    "        mental_health[mental_health[\"question\"] == question]\n",
    "        .groupby(\"answer\")\n",
    "        .size()\n",
    "        .sort_values(ascending=False)\n",
    "    )\n",
    "\n",
    "\n",
    "def get_answers_2020(question):\n",
    "    return (\n",
    "        survey_2020[survey_2020.index == question]\n",
    "        .T.groupby(question)\n",
    "        .size()\n",
    "        .sort_values(ascending=False)\n",
    "    )\n",
    "\n",
    "\n",
    "def plot_barchart(title, data):\n",
    "    sns.barplot(x=data.index, y=data.values)\n",
    "    plt.title(title)\n",
    "    plt.xlabel(\"Answer\")\n",
    "    plt.ylabel(\"Count\")\n",
    "    return plt.show()"
   ]
  },
  {
   "cell_type": "code",
   "execution_count": 15,
   "id": "bf709aa3-5d05-4811-947e-db1066157621",
   "metadata": {},
   "outputs": [
    {
     "data": {
      "text/plain": [
       "answer\n",
       "Male                                              2830\n",
       "Female                                             914\n",
       "male                                               212\n",
       "female                                             110\n",
       "Nonbinary                                            8\n",
       "non-binary                                           6\n",
       "Agender                                              4\n",
       "Genderqueer                                          4\n",
       "None                                                 3\n",
       "Non-binary                                           3\n",
       "Genderfluid                                          3\n",
       "Trans woman                                          2\n",
       "Non binary                                           2\n",
       "agender                                              2\n",
       "Male-ish                                             2\n",
       "Other                                                2\n",
       "Trans man                                            2\n",
       "Female (trans)                                       2\n",
       "Enby                                                 2\n",
       "sometimes                                            1\n",
       "female-bodied; no feelings about gender              1\n",
       "queer                                                1\n",
       "queer/she/they                                       1\n",
       "\\-                                                   1\n",
       "rr                                                   1\n",
       "something kinda male?                                1\n",
       "Woman-identified                                     1\n",
       "trans woman                                          1\n",
       "Unicorn                                              1\n",
       "p                                                    1\n",
       "Transitioned, M2F                                    1\n",
       "Transgender woman                                    1\n",
       "Transfeminine                                        1\n",
       "Trans-female                                         1\n",
       "transgender                                          1\n",
       "Trans non-binary/genderfluid                         1\n",
       "femmina                                              1\n",
       "none                                                 1\n",
       "nonbinary                                            1\n",
       "fm                                                   1\n",
       "non binary                                           1\n",
       "nb masculine                                         1\n",
       "mtf                                                  1\n",
       "masculino                                            1\n",
       "male/androgynous                                     1\n",
       "none of your business                                1\n",
       "male leaning androgynous                             1\n",
       "male 9:1 female, roughly                             1\n",
       "Trans female                                         1\n",
       "human                                                1\n",
       "genderqueer woman                                    1\n",
       "genderqueer                                          1\n",
       "genderfluid                                          1\n",
       "gender non-conforming woman                          1\n",
       "ostensibly male, unsure what that really means       1\n",
       "fluid                                                1\n",
       "43                                                   1\n",
       "She/her/they/them                                    1\n",
       "Demiguy                                              1\n",
       "Genderflux demi-girl                                 1\n",
       "Genderfluid (born female)                            1\n",
       "Fluid                                                1\n",
       "Female/gender non-binary.                            1\n",
       "Female-ish                                           1\n",
       "Female-identified                                    1\n",
       "Female or Multi-Gender Femme                         1\n",
       "Female assigned at birth                             1\n",
       "Contextual                                           1\n",
       "Genderqueer/non-binary                               1\n",
       "Cishet male                                          1\n",
       "Bigender                                             1\n",
       "Androgynous                                          1\n",
       "Androgyne                                            1\n",
       "All                                                  1\n",
       "Agender/genderfluid                                  1\n",
       "Agender trans woman                                  1\n",
       "AFAB                                                 1\n",
       "Genderqueer demigirl                                 1\n",
       "God King of the Valajar                              1\n",
       "SWM                                                  1\n",
       "Nah                                                  1\n",
       "Questioning                                          1\n",
       "Queer                                                1\n",
       "Other/Transfeminine                                  1\n",
       "A little about you                                   1\n",
       "Ostensibly Male                                      1\n",
       "Nonbinary/femme                                      1\n",
       "Non-binary and gender fluid                          1\n",
       "Neuter                                               1\n",
       "NB                                                   1\n",
       "Guy (-ish) ^_^                                       1\n",
       "Masculine                                            1\n",
       "Male/genderqueer                                     1\n",
       "Male (trans, FtM)                                    1\n",
       "Male (or female, or both)                            1\n",
       "MALE                                                 1\n",
       "I have a penis                                       1\n",
       "I am a Wookie                                        1\n",
       "Human                                                1\n",
       "uhhhhhhhhh fem genderqueer?                          1\n",
       "dtype: int64"
      ]
     },
     "execution_count": 15,
     "metadata": {},
     "output_type": "execute_result"
    }
   ],
   "source": [
    "gender = get_answers(\"What is your gender?\")\n",
    "gender"
   ]
  },
  {
   "cell_type": "markdown",
   "id": "c4ee0cc0-27f5-4452-b575-83992b9ce3ce",
   "metadata": {},
   "source": [
    "We'll need to group most of these values. I think it's best to group Male, Female then Other, because most of the others have only 1 value."
   ]
  },
  {
   "cell_type": "code",
   "execution_count": 16,
   "id": "e233ebe0-18f4-4fc7-b2d6-4ff43f7bf9d3",
   "metadata": {},
   "outputs": [
    {
     "data": {
      "text/plain": [
       "answer\n",
       "Male      3042\n",
       "Female    1024\n",
       "Other      128\n",
       "dtype: int64"
      ]
     },
     "execution_count": 16,
     "metadata": {},
     "output_type": "execute_result"
    }
   ],
   "source": [
    "gender[\"Male\"] += gender[\"male\"]\n",
    "gender[\"Female\"] += gender[\"female\"]\n",
    "gender[\"Other\"] = sum(gender[4:])\n",
    "gender = gender[[\"Male\", \"Female\", \"Other\"]]\n",
    "gender.head()"
   ]
  },
  {
   "cell_type": "code",
   "execution_count": 17,
   "id": "4767452f-0026-4ec7-a96f-289177d8cd1f",
   "metadata": {},
   "outputs": [
    {
     "data": {
      "image/png": "[encoded data removed]",
      "text/plain": [
       "<Figure size 720x720 with 1 Axes>"
      ]
     },
     "metadata": {},
     "output_type": "display_data"
    }
   ],
   "source": [
    "plot_barchart(\"What is your Gender?\", gender)"
   ]
  },
  {
   "cell_type": "code",
   "execution_count": 18,
   "id": "7080ddc7-d56d-449b-95ad-8832f0fe7b03",
   "metadata": {},
   "outputs": [
    {
     "name": "stdout",
     "output_type": "stream",
     "text": [
      "Percentage of Males: 72.53%\n"
     ]
    }
   ],
   "source": [
    "male_percentage = round((gender[\"Male\"] / gender.sum()) * 100, 2)\n",
    "print(f\"Percentage of Males: {male_percentage}%\")"
   ]
  },
  {
   "cell_type": "markdown",
   "id": "5f96a88c-2408-4c71-8251-e61c35d1ac8e",
   "metadata": {},
   "source": [
    "It looks like the majority of the survey participants were Male, we should keep this in mind throughout the rest of the analysis."
   ]
  },
  {
   "cell_type": "code",
   "execution_count": 19,
   "id": "0a549f97-dc7e-40c1-819d-229d19cf5dee",
   "metadata": {},
   "outputs": [
    {
     "data": {
      "text/plain": [
       "answer\n",
       "-29       1\n",
       " 0        1\n",
       " 3        1\n",
       " 5        1\n",
       " 8        1\n",
       " 11       1\n",
       " 15       1\n",
       " 17       1\n",
       " 18       9\n",
       " 19      20\n",
       " 20      17\n",
       " 21      39\n",
       " 22      74\n",
       " 23     107\n",
       " 24     128\n",
       " 25     147\n",
       " 26     194\n",
       " 27     197\n",
       " 28     220\n",
       " 29     229\n",
       " 30     250\n",
       " 31     223\n",
       " 32     227\n",
       " 33     201\n",
       " 34     202\n",
       " 35     201\n",
       " 36     147\n",
       " 37     184\n",
       " 38     160\n",
       " 39     137\n",
       " 40     122\n",
       " 41      88\n",
       " 42     100\n",
       " 43      82\n",
       " 44      68\n",
       " 45      74\n",
       " 46      58\n",
       " 47      38\n",
       " 48      29\n",
       " 49      36\n",
       " 50      30\n",
       " 51      22\n",
       " 52      17\n",
       " 53      15\n",
       " 54      17\n",
       " 55      22\n",
       " 56      13\n",
       " 57      14\n",
       " 58       5\n",
       " 59       6\n",
       " 60       5\n",
       " 61       7\n",
       " 62       3\n",
       " 63       5\n",
       " 64       3\n",
       " 65       3\n",
       " 66       2\n",
       " 67       2\n",
       " 70       1\n",
       " 72       1\n",
       " 74       1\n",
       " 99       1\n",
       " 323      1\n",
       " 329      1\n",
       "dtype: int64"
      ]
     },
     "execution_count": 19,
     "metadata": {},
     "output_type": "execute_result"
    }
   ],
   "source": [
    "age = get_answers(\"What is your age?\")\n",
    "age.index = age.index.astype(int)\n",
    "age.sort_index(inplace=True)\n",
    "age"
   ]
  },
  {
   "cell_type": "markdown",
   "id": "8500f5aa-ac97-433e-a8e9-648e51ed6e8a",
   "metadata": {},
   "source": [
    "We'll filter out values that are less than 10 or more than 80, then group ages in 10s"
   ]
  },
  {
   "cell_type": "code",
   "execution_count": 20,
   "id": "aed9d577-e636-4179-8b90-4c08d5ff8bbd",
   "metadata": {},
   "outputs": [],
   "source": [
    "age = age[(age.index >= 10) & (age.index <= 80)]"
   ]
  },
  {
   "cell_type": "code",
   "execution_count": 21,
   "id": "e29cf41f-5848-40df-acdc-875f1c2e60d8",
   "metadata": {},
   "outputs": [],
   "source": [
    "bins = [10, 20, 30, 40, 50, 60, 70, 80]\n",
    "labels = [\"10s\", \"20s\", \"30s\", \"40s\", \"50s\", \"60s\", \"70s\"]\n",
    "\n",
    "age_grouped = pd.cut(age.index, bins=bins, labels=labels,)"
   ]
  },
  {
   "cell_type": "code",
   "execution_count": 22,
   "id": "3984145e-5315-4d56-8163-a58b9c44e801",
   "metadata": {},
   "outputs": [],
   "source": [
    "age = age.groupby(age_grouped).sum()"
   ]
  },
  {
   "cell_type": "code",
   "execution_count": 23,
   "id": "9bbb557c-0304-4184-b9cf-14cc2221083c",
   "metadata": {},
   "outputs": [
    {
     "data": {
      "image/png": "[encoded data removed]",
      "text/plain": [
       "<Figure size 720x720 with 1 Axes>"
      ]
     },
     "metadata": {},
     "output_type": "display_data"
    }
   ],
   "source": [
    "plot_barchart(\"What is your Age?\", age)"
   ]
  },
  {
   "cell_type": "markdown",
   "id": "e8356f02-7fd5-4a6c-928c-ce114db7ab45",
   "metadata": {},
   "source": [
    "Most people lie between 20s and 50s, which is expected as this is the typical age range of the working class."
   ]
  },
  {
   "cell_type": "code",
   "execution_count": 24,
   "id": "f1cef825-b36a-4ec2-80ac-f52997b9bd47",
   "metadata": {},
   "outputs": [
    {
     "data": {
      "text/plain": [
       "answer\n",
       "1    2412\n",
       "0    1806\n",
       "dtype: int64"
      ]
     },
     "execution_count": 24,
     "metadata": {},
     "output_type": "execute_result"
    }
   ],
   "source": [
    "sought_treatment = get_answers(\n",
    "    \"Have you ever sought treatment for a mental health disorder from a mental health professional?\"\n",
    ")\n",
    "sought_treatment"
   ]
  },
  {
   "cell_type": "code",
   "execution_count": 25,
   "id": "4de833d4-61a1-4190-b7d2-f1036352c8e1",
   "metadata": {},
   "outputs": [],
   "source": [
    "sought_treatment = sought_treatment.rename(index={\"1\": \"Yes\", \"0\": \"No\"})"
   ]
  },
  {
   "cell_type": "code",
   "execution_count": 26,
   "id": "4ca9adcb-a1cf-476b-80df-c3d15356d7ad",
   "metadata": {},
   "outputs": [
    {
     "data": {
      "image/png": "[encoded data removed]",
      "text/plain": [
       "<Figure size 720x720 with 1 Axes>"
      ]
     },
     "metadata": {},
     "output_type": "display_data"
    }
   ],
   "source": [
    "plot_barchart(\n",
    "    \"Have you ever sought treatment for a mental health disorder?\", sought_treatment\n",
    ")"
   ]
  },
  {
   "cell_type": "markdown",
   "id": "1585d390-ee07-4ac1-901a-e305c7371c6f",
   "metadata": {},
   "source": [
    "This is interesting to see as this survey wasn't directed to people with mental health disorders and still the majority of participants are affected by it."
   ]
  },
  {
   "cell_type": "code",
   "execution_count": 27,
   "id": "acad4df1-c543-4189-8e4b-86a4c20f1ab7",
   "metadata": {},
   "outputs": [
    {
     "data": {
      "text/plain": [
       "answer\n",
       "I don't know    1546\n",
       "Yes             1135\n",
       "Don't know       820\n",
       "No               213\n",
       "dtype: int64"
      ]
     },
     "execution_count": 27,
     "metadata": {},
     "output_type": "execute_result"
    }
   ],
   "source": [
    "anonymity_protected = get_answers(\n",
    "    \"Is your anonymity protected if you choose to take advantage of mental health or substance abuse treatment resources provided by your employer?\"\n",
    ")\n",
    "anonymity_protected"
   ]
  },
  {
   "cell_type": "code",
   "execution_count": 28,
   "id": "4bf4737c-b873-427c-8437-1e556ab66296",
   "metadata": {},
   "outputs": [],
   "source": [
    "anonymity_protected[\"Don't know\"] += anonymity_protected[\"I don't know\"]\n",
    "anonymity_protected.drop(\"I don't know\", axis=0, inplace=True)\n",
    "anonymity_protected = anonymity_protected.reindex([\"Yes\", \"No\", \"Don't know\"])"
   ]
  },
  {
   "cell_type": "code",
   "execution_count": 29,
   "id": "54e02cbb-c1ce-4010-bc6a-634a79d11539",
   "metadata": {},
   "outputs": [
    {
     "data": {
      "image/png": "[encoded data removed]",
      "text/plain": [
       "<Figure size 720x720 with 1 Axes>"
      ]
     },
     "metadata": {},
     "output_type": "display_data"
    }
   ],
   "source": [
    "plot_barchart(\n",
    "    \"Is your anonymity protected if you use mental health resources from your employer?\",\n",
    "    anonymity_protected,\n",
    ")"
   ]
  },
  {
   "cell_type": "markdown",
   "id": "fb760e87-7178-4210-8638-2260b5f296f1",
   "metadata": {},
   "source": [
    "This is a bad sign, there could be a lot of people who don't seek these resources in fear of their anonymity not being protected"
   ]
  },
  {
   "cell_type": "code",
   "execution_count": 30,
   "id": "706f4c02-c6cc-4ec7-ab24-502eed800233",
   "metadata": {},
   "outputs": [
    {
     "data": {
      "text/plain": [
       "answer\n",
       "1    2888\n",
       "0     826\n",
       "dtype: int64"
      ]
     },
     "execution_count": 30,
     "metadata": {},
     "output_type": "execute_result"
    }
   ],
   "source": [
    "tech_company = get_answers(\"Is your employer primarily a tech company/organization?\")\n",
    "tech_company"
   ]
  },
  {
   "cell_type": "code",
   "execution_count": 31,
   "id": "f3cf3ac9-21e0-4a00-b24e-5d3b97ba5589",
   "metadata": {},
   "outputs": [
    {
     "data": {
      "text/plain": [
       "answer\n",
       "No       2951\n",
       "Maybe    1036\n",
       "Yes       231\n",
       "dtype: int64"
      ]
     },
     "execution_count": 31,
     "metadata": {},
     "output_type": "execute_result"
    }
   ],
   "source": [
    "interview = get_answers(\n",
    "    \"Would you bring up a mental health issue with a potential employer in an interview?\"\n",
    ")\n",
    "interview"
   ]
  },
  {
   "cell_type": "code",
   "execution_count": 32,
   "id": "95ccba2d-ade2-4f4c-9f97-43953f97d41c",
   "metadata": {},
   "outputs": [],
   "source": [
    "interview = interview.reindex([\"Yes\", \"No\", \"Maybe\"])"
   ]
  },
  {
   "cell_type": "code",
   "execution_count": 33,
   "id": "147e2774-2adf-4654-923c-790dc65458a5",
   "metadata": {},
   "outputs": [
    {
     "data": {
      "image/png": "[encoded data removed]",
      "text/plain": [
       "<Figure size 720x720 with 1 Axes>"
      ]
     },
     "metadata": {},
     "output_type": "display_data"
    }
   ],
   "source": [
    "plot_barchart(\n",
    "    \"Would you bring up a mental health issue in an interview?\", interview,\n",
    ")"
   ]
  },
  {
   "cell_type": "markdown",
   "id": "1d3c4788-9a0f-49cb-b38f-5a8e083319a0",
   "metadata": {},
   "source": [
    "Only a few participants would bring up mental health in an interview. People may feel insecure about their condition to talk about it, or think that it will have a negative impact on their interview."
   ]
  },
  {
   "cell_type": "code",
   "execution_count": 34,
   "id": "21cc1bb4-1021-4dcc-8149-1702f0148212",
   "metadata": {},
   "outputs": [
    {
     "data": {
      "text/plain": [
       "answer\n",
       "Yes                               1744\n",
       "No                                 756\n",
       "I don't know                       658\n",
       "Don't know                         408\n",
       "Not eligible for coverage / NA     148\n",
       "dtype: int64"
      ]
     },
     "execution_count": 34,
     "metadata": {},
     "output_type": "execute_result"
    }
   ],
   "source": [
    "provides_benefits = get_answers(\n",
    "    \"Does your employer provide mental health benefits as part of healthcare coverage?\"\n",
    ")\n",
    "provides_benefits"
   ]
  },
  {
   "cell_type": "code",
   "execution_count": 35,
   "id": "92bb34fe-1d7a-48cd-9457-78b210954ca8",
   "metadata": {},
   "outputs": [],
   "source": [
    "provides_benefits[\"Don't know\"] += provides_benefits[\"I don't know\"]\n",
    "provides_benefits = provides_benefits.rename(\n",
    "    index={\"Not eligible for coverage / NA\": \"Not eligible\"}\n",
    ")\n",
    "provides_benefits.drop(\"I don't know\", axis=0, inplace=True)"
   ]
  },
  {
   "cell_type": "code",
   "execution_count": 36,
   "id": "4b20657e-1e5d-418b-be70-96b1d779782f",
   "metadata": {},
   "outputs": [
    {
     "data": {
      "image/png": "[encoded data removed]",
      "text/plain": [
       "<Figure size 720x720 with 1 Axes>"
      ]
     },
     "metadata": {},
     "output_type": "display_data"
    }
   ],
   "source": [
    "plot_barchart(\n",
    "    \"Does your employer provide mental health benefits as part of healthcare coverage?\",\n",
    "    provides_benefits,\n",
    ")"
   ]
  },
  {
   "cell_type": "markdown",
   "id": "b0555f20-9dee-439f-8ef3-d514827a8f93",
   "metadata": {},
   "source": [
    "A lot of people appear to be aware of mental health benefits but the amount that don't know shows that this should be exposed more in the companies"
   ]
  },
  {
   "cell_type": "code",
   "execution_count": 37,
   "id": "591cf203-4c1b-41b2-bf23-98dd8c476be2",
   "metadata": {},
   "outputs": [
    {
     "data": {
      "text/plain": [
       "answer\n",
       "United States of America    1853\n",
       "United States                751\n",
       "United Kingdom               482\n",
       "Canada                       199\n",
       "Germany                      136\n",
       "Netherlands                   98\n",
       "Australia                     73\n",
       "Ireland                       51\n",
       "France                        51\n",
       "India                         50\n",
       "Brazil                        37\n",
       "Sweden                        29\n",
       "Switzerland                   28\n",
       "Spain                         26\n",
       "New Zealand                   24\n",
       "Portugal                      23\n",
       "Poland                        21\n",
       "Italy                         19\n",
       "Belgium                       17\n",
       "Russia                        16\n",
       "South Africa                  16\n",
       "Finland                       13\n",
       "Bulgaria                      13\n",
       "Mexico                        12\n",
       "Norway                        12\n",
       "Austria                       10\n",
       "Romania                        9\n",
       "Israel                         9\n",
       "Japan                          9\n",
       "Denmark                        9\n",
       "Greece                         7\n",
       "Pakistan                       7\n",
       "Czech Republic                 6\n",
       "Colombia                       6\n",
       "Estonia                        5\n",
       "Turkey                         5\n",
       "Singapore                      5\n",
       "Croatia                        4\n",
       "Hungary                        4\n",
       "Serbia                         4\n",
       "Argentina                      4\n",
       "Ukraine                        3\n",
       "Afghanistan                    3\n",
       "Bangladesh                     3\n",
       "Bosnia and Herzegovina         3\n",
       "Chile                          3\n",
       "Indonesia                      3\n",
       "Latvia                         2\n",
       "Iceland                        2\n",
       "Uruguay                        2\n",
       "China                          2\n",
       "Costa Rica                     2\n",
       "Slovakia                       2\n",
       "Lithuania                      2\n",
       "Hong Kong                      2\n",
       "Georgia                        2\n",
       "Nigeria                        2\n",
       "Algeria                        2\n",
       "Other                          2\n",
       "Philippines                    1\n",
       "Thailand                       1\n",
       "Vietnam                        1\n",
       "Venezuela                      1\n",
       "Macedonia                      1\n",
       "Bahamas, The                   1\n",
       "Mauritius                      1\n",
       "Belarus                        1\n",
       "Kenya                          1\n",
       "Brunei                         1\n",
       "Moldova                        1\n",
       "Taiwan                         1\n",
       "Jordan                         1\n",
       "Ecuador                        1\n",
       "Slovenia                       1\n",
       "Ethiopia                       1\n",
       "Iran                           1\n",
       "Saudi Arabia                   1\n",
       "Ghana                          1\n",
       "Guatemala                      1\n",
       "Zimbabwe                       1\n",
       "dtype: int64"
      ]
     },
     "execution_count": 37,
     "metadata": {},
     "output_type": "execute_result"
    }
   ],
   "source": [
    "country = get_answers(\"What country do you live in?\")\n",
    "country"
   ]
  },
  {
   "cell_type": "code",
   "execution_count": 38,
   "id": "b0c0feed-a845-4928-9e32-4832485b0a61",
   "metadata": {},
   "outputs": [],
   "source": [
    "country[\"United States\"] += country[\"United States of America\"]\n",
    "country.drop(index={\"United States of America\"}, inplace=True)\n",
    "country.rename(index={\"United States\": \"US\", \"United Kingdom\": \"UK\"}, inplace=True)"
   ]
  },
  {
   "cell_type": "code",
   "execution_count": 39,
   "id": "b050fd71-77e3-4d11-834f-a04848910f16",
   "metadata": {},
   "outputs": [],
   "source": [
    "other = country[10:].sum()"
   ]
  },
  {
   "cell_type": "code",
   "execution_count": 40,
   "id": "26cae4a2-9c91-4986-b582-0c23c80f0dd2",
   "metadata": {},
   "outputs": [],
   "source": [
    "country = country[:10]\n",
    "country[\"Other\"] = other"
   ]
  },
  {
   "cell_type": "code",
   "execution_count": 41,
   "id": "86a3b858-b612-4992-b109-f1fe06d91157",
   "metadata": {},
   "outputs": [
    {
     "data": {
      "image/png": "[encoded data removed]",
      "text/plain": [
       "<Figure size 720x720 with 1 Axes>"
      ]
     },
     "metadata": {},
     "output_type": "display_data"
    }
   ],
   "source": [
    "plot_barchart(\"What country do you live in?\", country)"
   ]
  },
  {
   "cell_type": "code",
   "execution_count": 42,
   "id": "f3f770eb-48ba-4924-83a0-0a27437b174d",
   "metadata": {},
   "outputs": [
    {
     "name": "stdout",
     "output_type": "stream",
     "text": [
      "US: 2604 \n",
      "Other: 1612\n"
     ]
    }
   ],
   "source": [
    "print(f\"US: {country[:1].sum()} \\nOther: {country[1:].sum()}\")"
   ]
  },
  {
   "cell_type": "markdown",
   "id": "97999099-a763-407c-a6f0-e5aaf181be17",
   "metadata": {},
   "source": [
    "Even with all other countries combined, most of the participants are living in the US"
   ]
  },
  {
   "cell_type": "code",
   "execution_count": 43,
   "id": "a65ec9ac-c73e-43d5-a70b-841817ea13cb",
   "metadata": {},
   "outputs": [],
   "source": [
    "employees = get_answers(\"How many employees does your company or organization have?\")"
   ]
  },
  {
   "cell_type": "code",
   "execution_count": 44,
   "id": "0f32cf6c-b4b1-42bb-9bce-b5b8be0b3657",
   "metadata": {},
   "outputs": [],
   "source": [
    "employees = employees.rename(index={\"More than 1000\": \">1000\"})\n",
    "employees = employees.reindex([\"1-5\", \"6-25\", \"26-100\", \"100-500\", \"500-1000\", \">1000\"])"
   ]
  },
  {
   "cell_type": "markdown",
   "id": "eb5f909a-9e55-4ec0-824d-f2d977abc74a",
   "metadata": {},
   "source": [
    "We find the category that the median lies in"
   ]
  },
  {
   "cell_type": "code",
   "execution_count": 45,
   "id": "5108f52d-c6b5-4b50-954b-7dfaa59c8226",
   "metadata": {},
   "outputs": [
    {
     "data": {
      "text/plain": [
       "answer\n",
       "1-5         254\n",
       "6-25        689\n",
       "26-100      824\n",
       "100-500     788\n",
       "500-1000    247\n",
       ">1000       912\n",
       "dtype: int64"
      ]
     },
     "execution_count": 45,
     "metadata": {},
     "output_type": "execute_result"
    }
   ],
   "source": [
    "employees"
   ]
  },
  {
   "cell_type": "code",
   "execution_count": 46,
   "id": "6d0de7f0-f65f-4c65-aaff-d7bc936e94c7",
   "metadata": {},
   "outputs": [
    {
     "data": {
      "text/plain": [
       "1857.0"
      ]
     },
     "execution_count": 46,
     "metadata": {},
     "output_type": "execute_result"
    }
   ],
   "source": [
    "employees.sum() / 2"
   ]
  },
  {
   "cell_type": "markdown",
   "id": "a6afe82d-e481-4f72-89d4-85db9083dfeb",
   "metadata": {},
   "source": [
    "This means the median lies in 100-500, so from this we can see that a lot of the participants work at large companies"
   ]
  },
  {
   "cell_type": "code",
   "execution_count": 47,
   "id": "ab961fae-4059-4d73-b902-e3f5d03dd93f",
   "metadata": {},
   "outputs": [
    {
     "data": {
      "image/png": "[encoded data removed]",
      "text/plain": [
       "<Figure size 720x720 with 1 Axes>"
      ]
     },
     "metadata": {},
     "output_type": "display_data"
    }
   ],
   "source": [
    "plot_barchart(\"How many employees does your company or organization have?\", employees)"
   ]
  },
  {
   "cell_type": "markdown",
   "id": "f57fc8ea-5689-4e59-8269-ea72703e292a",
   "metadata": {},
   "source": [
    "## In 2020, was there a significant change in difficulty to ask for leave for a mental health issue?"
   ]
  },
  {
   "cell_type": "markdown",
   "id": "48030a14-e284-4a82-8ea5-80dbeaf712eb",
   "metadata": {},
   "source": [
    "This could be interesting due the COVID pandemic and increase in working from home. We'll need to look at the data from the OSMI 2020 survey, which isn't included in the previous mental_health database"
   ]
  },
  {
   "cell_type": "code",
   "execution_count": 48,
   "id": "33a95067-bb09-4ff6-95cd-15e1ca8adf5a",
   "metadata": {},
   "outputs": [],
   "source": [
    "survey_2020 = pd.read_csv(\"data/survey_2020.csv\")"
   ]
  },
  {
   "cell_type": "code",
   "execution_count": 49,
   "id": "c8d96a0a-330a-49ae-9e63-2bc28544aa52",
   "metadata": {},
   "outputs": [
    {
     "data": {
      "text/html": [
       "<div>\n",
       "<style scoped>\n",
       "    .dataframe tbody tr th:only-of-type {\n",
       "        vertical-align: middle;\n",
       "    }\n",
       "\n",
       "    .dataframe tbody tr th {\n",
       "        vertical-align: top;\n",
       "    }\n",
       "\n",
       "    .dataframe thead th {\n",
       "        text-align: right;\n",
       "    }\n",
       "</style>\n",
       "<table border=\"1\" class=\"dataframe\">\n",
       "  <thead>\n",
       "    <tr style=\"text-align: right;\">\n",
       "      <th></th>\n",
       "      <th>#</th>\n",
       "      <th>*Are you self-employed?*</th>\n",
       "      <th>How many employees does your company or organization have?</th>\n",
       "      <th>Is your employer primarily a tech company/organization?</th>\n",
       "      <th>Is your primary role within your company related to tech/IT?</th>\n",
       "      <th>Does your employer provide mental health benefits as part of healthcare coverage?</th>\n",
       "      <th>Do you know the options for mental health care available under your employer-provided health coverage?</th>\n",
       "      <th>Has your employer ever formally discussed mental health (for example, as part of a wellness campaign or other official communication)?</th>\n",
       "      <th>Does your employer offer resources to learn more about mental health disorders and options for seeking help?</th>\n",
       "      <th>Is your anonymity protected if you choose to take advantage of mental health or substance abuse treatment resources provided by your employer?</th>\n",
       "      <th>...</th>\n",
       "      <th>If there is anything else you would like to tell us that has not been covered by the survey questions, please use this space to do so.</th>\n",
       "      <th>Would you be willing to talk to one of us more extensively about your experiences with mental health issues in the tech industry? (Note that all interview responses would be used _anonymously_ and only with your permission.)</th>\n",
       "      <th>What is your age?</th>\n",
       "      <th>What is your gender?</th>\n",
       "      <th>What country do you *live* in?</th>\n",
       "      <th>What US state or territory do you *live* in?</th>\n",
       "      <th>What is your race?</th>\n",
       "      <th>Other.3</th>\n",
       "      <th>What country do you *work* in?</th>\n",
       "      <th>What US state or territory do you *work* in?</th>\n",
       "    </tr>\n",
       "  </thead>\n",
       "  <tbody>\n",
       "    <tr>\n",
       "      <th>0</th>\n",
       "      <td>zwrffw6ykfo82ft1twvzwrffw6c6wsfv</td>\n",
       "      <td>1</td>\n",
       "      <td>NaN</td>\n",
       "      <td>NaN</td>\n",
       "      <td>NaN</td>\n",
       "      <td>NaN</td>\n",
       "      <td>NaN</td>\n",
       "      <td>NaN</td>\n",
       "      <td>NaN</td>\n",
       "      <td>NaN</td>\n",
       "      <td>...</td>\n",
       "      <td>NaN</td>\n",
       "      <td>0</td>\n",
       "      <td>45</td>\n",
       "      <td>Male</td>\n",
       "      <td>United States of America</td>\n",
       "      <td>Connecticut</td>\n",
       "      <td>White</td>\n",
       "      <td>NaN</td>\n",
       "      <td>United States of America</td>\n",
       "      <td>Connecticut</td>\n",
       "    </tr>\n",
       "    <tr>\n",
       "      <th>1</th>\n",
       "      <td>zhdmhaa8r0125c4zmoi7qzhdmtjrakhm</td>\n",
       "      <td>1</td>\n",
       "      <td>NaN</td>\n",
       "      <td>NaN</td>\n",
       "      <td>NaN</td>\n",
       "      <td>NaN</td>\n",
       "      <td>NaN</td>\n",
       "      <td>NaN</td>\n",
       "      <td>NaN</td>\n",
       "      <td>NaN</td>\n",
       "      <td>...</td>\n",
       "      <td>NaN</td>\n",
       "      <td>1</td>\n",
       "      <td>24</td>\n",
       "      <td>female</td>\n",
       "      <td>Russia</td>\n",
       "      <td>NaN</td>\n",
       "      <td>NaN</td>\n",
       "      <td>NaN</td>\n",
       "      <td>Russia</td>\n",
       "      <td>NaN</td>\n",
       "    </tr>\n",
       "    <tr>\n",
       "      <th>2</th>\n",
       "      <td>x4itwa9hnlw7qke4y5xibx4itwa9yzl5</td>\n",
       "      <td>1</td>\n",
       "      <td>NaN</td>\n",
       "      <td>NaN</td>\n",
       "      <td>NaN</td>\n",
       "      <td>NaN</td>\n",
       "      <td>NaN</td>\n",
       "      <td>NaN</td>\n",
       "      <td>NaN</td>\n",
       "      <td>NaN</td>\n",
       "      <td>...</td>\n",
       "      <td>mental health should be a law by government.</td>\n",
       "      <td>1</td>\n",
       "      <td>46</td>\n",
       "      <td>Male</td>\n",
       "      <td>India</td>\n",
       "      <td>NaN</td>\n",
       "      <td>NaN</td>\n",
       "      <td>NaN</td>\n",
       "      <td>India</td>\n",
       "      <td>NaN</td>\n",
       "    </tr>\n",
       "    <tr>\n",
       "      <th>3</th>\n",
       "      <td>x3v3oimu5pn0043n8x3v3oizaybhwwto</td>\n",
       "      <td>1</td>\n",
       "      <td>NaN</td>\n",
       "      <td>NaN</td>\n",
       "      <td>NaN</td>\n",
       "      <td>NaN</td>\n",
       "      <td>NaN</td>\n",
       "      <td>NaN</td>\n",
       "      <td>NaN</td>\n",
       "      <td>NaN</td>\n",
       "      <td>...</td>\n",
       "      <td>NaN</td>\n",
       "      <td>1</td>\n",
       "      <td>25</td>\n",
       "      <td>Female</td>\n",
       "      <td>Canada</td>\n",
       "      <td>NaN</td>\n",
       "      <td>NaN</td>\n",
       "      <td>NaN</td>\n",
       "      <td>Canada</td>\n",
       "      <td>NaN</td>\n",
       "    </tr>\n",
       "    <tr>\n",
       "      <th>4</th>\n",
       "      <td>uyp6re7bhnyx6gez09uyp6re72z0e4e4</td>\n",
       "      <td>1</td>\n",
       "      <td>NaN</td>\n",
       "      <td>NaN</td>\n",
       "      <td>NaN</td>\n",
       "      <td>NaN</td>\n",
       "      <td>NaN</td>\n",
       "      <td>NaN</td>\n",
       "      <td>NaN</td>\n",
       "      <td>NaN</td>\n",
       "      <td>...</td>\n",
       "      <td>no</td>\n",
       "      <td>1</td>\n",
       "      <td>25</td>\n",
       "      <td>F</td>\n",
       "      <td>Canada</td>\n",
       "      <td>NaN</td>\n",
       "      <td>NaN</td>\n",
       "      <td>NaN</td>\n",
       "      <td>Canada</td>\n",
       "      <td>NaN</td>\n",
       "    </tr>\n",
       "  </tbody>\n",
       "</table>\n",
       "<p>5 rows × 120 columns</p>\n",
       "</div>"
      ],
      "text/plain": [
       "                                  #  *Are you self-employed?*  \\\n",
       "0  zwrffw6ykfo82ft1twvzwrffw6c6wsfv                         1   \n",
       "1  zhdmhaa8r0125c4zmoi7qzhdmtjrakhm                         1   \n",
       "2  x4itwa9hnlw7qke4y5xibx4itwa9yzl5                         1   \n",
       "3  x3v3oimu5pn0043n8x3v3oizaybhwwto                         1   \n",
       "4  uyp6re7bhnyx6gez09uyp6re72z0e4e4                         1   \n",
       "\n",
       "  How many employees does your company or organization have?  \\\n",
       "0                                                        NaN   \n",
       "1                                                        NaN   \n",
       "2                                                        NaN   \n",
       "3                                                        NaN   \n",
       "4                                                        NaN   \n",
       "\n",
       "   Is your employer primarily a tech company/organization?  \\\n",
       "0                                                      NaN   \n",
       "1                                                      NaN   \n",
       "2                                                      NaN   \n",
       "3                                                      NaN   \n",
       "4                                                      NaN   \n",
       "\n",
       "   Is your primary role within your company related to tech/IT?  \\\n",
       "0                                                           NaN   \n",
       "1                                                           NaN   \n",
       "2                                                           NaN   \n",
       "3                                                           NaN   \n",
       "4                                                           NaN   \n",
       "\n",
       "  Does your employer provide mental health benefits as part of healthcare coverage?  \\\n",
       "0                                                                               NaN   \n",
       "1                                                                               NaN   \n",
       "2                                                                               NaN   \n",
       "3                                                                               NaN   \n",
       "4                                                                               NaN   \n",
       "\n",
       "  Do you know the options for mental health care available under your employer-provided health coverage?  \\\n",
       "0                                                                                                    NaN   \n",
       "1                                                                                                    NaN   \n",
       "2                                                                                                    NaN   \n",
       "3                                                                                                    NaN   \n",
       "4                                                                                                    NaN   \n",
       "\n",
       "  Has your employer ever formally discussed mental health (for example, as part of a wellness campaign or other official communication)?  \\\n",
       "0                                                                                                                                    NaN   \n",
       "1                                                                                                                                    NaN   \n",
       "2                                                                                                                                    NaN   \n",
       "3                                                                                                                                    NaN   \n",
       "4                                                                                                                                    NaN   \n",
       "\n",
       "  Does your employer offer resources to learn more about mental health disorders and options for seeking help?  \\\n",
       "0                                                                                                          NaN   \n",
       "1                                                                                                          NaN   \n",
       "2                                                                                                          NaN   \n",
       "3                                                                                                          NaN   \n",
       "4                                                                                                          NaN   \n",
       "\n",
       "  Is your anonymity protected if you choose to take advantage of mental health or substance abuse treatment resources provided by your employer?  \\\n",
       "0                                                                                                                                            NaN   \n",
       "1                                                                                                                                            NaN   \n",
       "2                                                                                                                                            NaN   \n",
       "3                                                                                                                                            NaN   \n",
       "4                                                                                                                                            NaN   \n",
       "\n",
       "   ...  \\\n",
       "0  ...   \n",
       "1  ...   \n",
       "2  ...   \n",
       "3  ...   \n",
       "4  ...   \n",
       "\n",
       "  If there is anything else you would like to tell us that has not been covered by the survey questions, please use this space to do so.  \\\n",
       "0                                                                                                                                    NaN   \n",
       "1                                                                                                                                    NaN   \n",
       "2                                                                                           mental health should be a law by government.   \n",
       "3                                                                                                                                    NaN   \n",
       "4                                                                                                                                     no   \n",
       "\n",
       "  Would you be willing to talk to one of us more extensively about your experiences with mental health issues in the tech industry? (Note that all interview responses would be used _anonymously_ and only with your permission.)  \\\n",
       "0                                                                                                                                                                                                                                0   \n",
       "1                                                                                                                                                                                                                                1   \n",
       "2                                                                                                                                                                                                                                1   \n",
       "3                                                                                                                                                                                                                                1   \n",
       "4                                                                                                                                                                                                                                1   \n",
       "\n",
       "  What is your age?  What is your gender? What country do you *live* in?  \\\n",
       "0                45                  Male       United States of America   \n",
       "1                24                female                         Russia   \n",
       "2                46                  Male                          India   \n",
       "3                25                Female                         Canada   \n",
       "4                25                     F                         Canada   \n",
       "\n",
       "  What US state or territory do you *live* in?  What is your race? Other.3  \\\n",
       "0                                  Connecticut               White     NaN   \n",
       "1                                          NaN                 NaN     NaN   \n",
       "2                                          NaN                 NaN     NaN   \n",
       "3                                          NaN                 NaN     NaN   \n",
       "4                                          NaN                 NaN     NaN   \n",
       "\n",
       "   What country do you *work* in? What US state or territory do you *work* in?  \n",
       "0        United States of America                                  Connecticut  \n",
       "1                          Russia                                          NaN  \n",
       "2                           India                                          NaN  \n",
       "3                          Canada                                          NaN  \n",
       "4                          Canada                                          NaN  \n",
       "\n",
       "[5 rows x 120 columns]"
      ]
     },
     "execution_count": 49,
     "metadata": {},
     "output_type": "execute_result"
    }
   ],
   "source": [
    "survey_2020.head()"
   ]
  },
  {
   "cell_type": "markdown",
   "id": "70ebea72-efde-4f36-9e12-4f97090a7bb2",
   "metadata": {},
   "source": [
    "It's in a completely different format that the one we were working with before, so we'll have to change it."
   ]
  },
  {
   "cell_type": "code",
   "execution_count": 50,
   "id": "d3747e01-3373-4640-99cf-18cf151690cc",
   "metadata": {},
   "outputs": [
    {
     "data": {
      "text/html": [
       "<div>\n",
       "<style scoped>\n",
       "    .dataframe tbody tr th:only-of-type {\n",
       "        vertical-align: middle;\n",
       "    }\n",
       "\n",
       "    .dataframe tbody tr th {\n",
       "        vertical-align: top;\n",
       "    }\n",
       "\n",
       "    .dataframe thead th {\n",
       "        text-align: right;\n",
       "    }\n",
       "</style>\n",
       "<table border=\"1\" class=\"dataframe\">\n",
       "  <thead>\n",
       "    <tr style=\"text-align: right;\">\n",
       "      <th></th>\n",
       "      <th>0</th>\n",
       "      <th>1</th>\n",
       "      <th>2</th>\n",
       "      <th>3</th>\n",
       "      <th>4</th>\n",
       "      <th>5</th>\n",
       "      <th>6</th>\n",
       "      <th>7</th>\n",
       "      <th>8</th>\n",
       "      <th>9</th>\n",
       "      <th>...</th>\n",
       "      <th>170</th>\n",
       "      <th>171</th>\n",
       "      <th>172</th>\n",
       "      <th>173</th>\n",
       "      <th>174</th>\n",
       "      <th>175</th>\n",
       "      <th>176</th>\n",
       "      <th>177</th>\n",
       "      <th>178</th>\n",
       "      <th>179</th>\n",
       "    </tr>\n",
       "    <tr>\n",
       "      <th>question</th>\n",
       "      <th></th>\n",
       "      <th></th>\n",
       "      <th></th>\n",
       "      <th></th>\n",
       "      <th></th>\n",
       "      <th></th>\n",
       "      <th></th>\n",
       "      <th></th>\n",
       "      <th></th>\n",
       "      <th></th>\n",
       "      <th></th>\n",
       "      <th></th>\n",
       "      <th></th>\n",
       "      <th></th>\n",
       "      <th></th>\n",
       "      <th></th>\n",
       "      <th></th>\n",
       "      <th></th>\n",
       "      <th></th>\n",
       "      <th></th>\n",
       "      <th></th>\n",
       "    </tr>\n",
       "  </thead>\n",
       "  <tbody>\n",
       "    <tr>\n",
       "      <th>#</th>\n",
       "      <td>zwrffw6ykfo82ft1twvzwrffw6c6wsfv</td>\n",
       "      <td>zhdmhaa8r0125c4zmoi7qzhdmtjrakhm</td>\n",
       "      <td>x4itwa9hnlw7qke4y5xibx4itwa9yzl5</td>\n",
       "      <td>x3v3oimu5pn0043n8x3v3oizaybhwwto</td>\n",
       "      <td>uyp6re7bhnyx6gez09uyp6re72z0e4e4</td>\n",
       "      <td>u0nbmruq4qexmkk8zvqsu0nbmrh6he0e</td>\n",
       "      <td>t4ck9zq73fzi90rtcfgzu0ot4ck9zzub</td>\n",
       "      <td>sics80avlof5gljw4fqrl7sics805x6i</td>\n",
       "      <td>rd0ztpn1g47k7bhehrd0ztt4hk3qv0kp</td>\n",
       "      <td>qxhj26vbyd7zlgbi1xqxhj26nalmk3sa</td>\n",
       "      <td>...</td>\n",
       "      <td>1pn8gueuutq0i3gx1pn8gw3ke9pa00pp</td>\n",
       "      <td>1b1l167vv3dkjlnpgsq1b1l1h2jhn6vf</td>\n",
       "      <td>18pbytb7yblon6nnjh8o18pbytcwj66m</td>\n",
       "      <td>15ymmnmxl7jf46oql15ymmltwey4xn1c</td>\n",
       "      <td>12bjqz066nmgymnctn12bjq90slxyeji</td>\n",
       "      <td>0wrer2048ezmupzx43w90wrer20yc1kw</td>\n",
       "      <td>0uwk39tqe1301annaj00uwk36l3gcj5c</td>\n",
       "      <td>0one9qodhxn97la0onyoa7723zcfjjcq</td>\n",
       "      <td>0gwigf5te8921teu30gwigf6l4r66gc9</td>\n",
       "      <td>0ezwd0r69klk35revk0ezwocuudi4f4e</td>\n",
       "    </tr>\n",
       "    <tr>\n",
       "      <th>*Are you self-employed?*</th>\n",
       "      <td>1</td>\n",
       "      <td>1</td>\n",
       "      <td>1</td>\n",
       "      <td>1</td>\n",
       "      <td>1</td>\n",
       "      <td>1</td>\n",
       "      <td>1</td>\n",
       "      <td>1</td>\n",
       "      <td>1</td>\n",
       "      <td>1</td>\n",
       "      <td>...</td>\n",
       "      <td>0</td>\n",
       "      <td>0</td>\n",
       "      <td>0</td>\n",
       "      <td>0</td>\n",
       "      <td>0</td>\n",
       "      <td>0</td>\n",
       "      <td>0</td>\n",
       "      <td>0</td>\n",
       "      <td>0</td>\n",
       "      <td>0</td>\n",
       "    </tr>\n",
       "    <tr>\n",
       "      <th>How many employees does your company or organization have?</th>\n",
       "      <td>NaN</td>\n",
       "      <td>NaN</td>\n",
       "      <td>NaN</td>\n",
       "      <td>NaN</td>\n",
       "      <td>NaN</td>\n",
       "      <td>NaN</td>\n",
       "      <td>NaN</td>\n",
       "      <td>NaN</td>\n",
       "      <td>NaN</td>\n",
       "      <td>NaN</td>\n",
       "      <td>...</td>\n",
       "      <td>More than 1000</td>\n",
       "      <td>More than 1000</td>\n",
       "      <td>500-1000</td>\n",
       "      <td>26-100</td>\n",
       "      <td>More than 1000</td>\n",
       "      <td>More than 1000</td>\n",
       "      <td>26-100</td>\n",
       "      <td>100-500</td>\n",
       "      <td>500-1000</td>\n",
       "      <td>500-1000</td>\n",
       "    </tr>\n",
       "    <tr>\n",
       "      <th>Is your employer primarily a tech company/organization?</th>\n",
       "      <td>NaN</td>\n",
       "      <td>NaN</td>\n",
       "      <td>NaN</td>\n",
       "      <td>NaN</td>\n",
       "      <td>NaN</td>\n",
       "      <td>NaN</td>\n",
       "      <td>NaN</td>\n",
       "      <td>NaN</td>\n",
       "      <td>NaN</td>\n",
       "      <td>NaN</td>\n",
       "      <td>...</td>\n",
       "      <td>0.0</td>\n",
       "      <td>1.0</td>\n",
       "      <td>0.0</td>\n",
       "      <td>1.0</td>\n",
       "      <td>1.0</td>\n",
       "      <td>0.0</td>\n",
       "      <td>1.0</td>\n",
       "      <td>1.0</td>\n",
       "      <td>0.0</td>\n",
       "      <td>1.0</td>\n",
       "    </tr>\n",
       "    <tr>\n",
       "      <th>Is your primary role within your company related to tech/IT?</th>\n",
       "      <td>NaN</td>\n",
       "      <td>NaN</td>\n",
       "      <td>NaN</td>\n",
       "      <td>NaN</td>\n",
       "      <td>NaN</td>\n",
       "      <td>NaN</td>\n",
       "      <td>NaN</td>\n",
       "      <td>NaN</td>\n",
       "      <td>NaN</td>\n",
       "      <td>NaN</td>\n",
       "      <td>...</td>\n",
       "      <td>1.0</td>\n",
       "      <td>1.0</td>\n",
       "      <td>0.0</td>\n",
       "      <td>1.0</td>\n",
       "      <td>1.0</td>\n",
       "      <td>1.0</td>\n",
       "      <td>1.0</td>\n",
       "      <td>1.0</td>\n",
       "      <td>1.0</td>\n",
       "      <td>1.0</td>\n",
       "    </tr>\n",
       "  </tbody>\n",
       "</table>\n",
       "<p>5 rows × 180 columns</p>\n",
       "</div>"
      ],
      "text/plain": [
       "                                                                                           0    \\\n",
       "question                                                                                         \n",
       "#                                                             zwrffw6ykfo82ft1twvzwrffw6c6wsfv   \n",
       "*Are you self-employed?*                                                                     1   \n",
       "How many employees does your company or organization have?                                 NaN   \n",
       "Is your employer primarily a tech company/organization?                                    NaN   \n",
       "Is your primary role within your company related to tech/IT?                               NaN   \n",
       "\n",
       "                                                                                           1    \\\n",
       "question                                                                                         \n",
       "#                                                             zhdmhaa8r0125c4zmoi7qzhdmtjrakhm   \n",
       "*Are you self-employed?*                                                                     1   \n",
       "How many employees does your company or organization have?                                 NaN   \n",
       "Is your employer primarily a tech company/organization?                                    NaN   \n",
       "Is your primary role within your company related to tech/IT?                               NaN   \n",
       "\n",
       "                                                                                           2    \\\n",
       "question                                                                                         \n",
       "#                                                             x4itwa9hnlw7qke4y5xibx4itwa9yzl5   \n",
       "*Are you self-employed?*                                                                     1   \n",
       "How many employees does your company or organization have?                                 NaN   \n",
       "Is your employer primarily a tech company/organization?                                    NaN   \n",
       "Is your primary role within your company related to tech/IT?                               NaN   \n",
       "\n",
       "                                                                                           3    \\\n",
       "question                                                                                         \n",
       "#                                                             x3v3oimu5pn0043n8x3v3oizaybhwwto   \n",
       "*Are you self-employed?*                                                                     1   \n",
       "How many employees does your company or organization have?                                 NaN   \n",
       "Is your employer primarily a tech company/organization?                                    NaN   \n",
       "Is your primary role within your company related to tech/IT?                               NaN   \n",
       "\n",
       "                                                                                           4    \\\n",
       "question                                                                                         \n",
       "#                                                             uyp6re7bhnyx6gez09uyp6re72z0e4e4   \n",
       "*Are you self-employed?*                                                                     1   \n",
       "How many employees does your company or organization have?                                 NaN   \n",
       "Is your employer primarily a tech company/organization?                                    NaN   \n",
       "Is your primary role within your company related to tech/IT?                               NaN   \n",
       "\n",
       "                                                                                           5    \\\n",
       "question                                                                                         \n",
       "#                                                             u0nbmruq4qexmkk8zvqsu0nbmrh6he0e   \n",
       "*Are you self-employed?*                                                                     1   \n",
       "How many employees does your company or organization have?                                 NaN   \n",
       "Is your employer primarily a tech company/organization?                                    NaN   \n",
       "Is your primary role within your company related to tech/IT?                               NaN   \n",
       "\n",
       "                                                                                           6    \\\n",
       "question                                                                                         \n",
       "#                                                             t4ck9zq73fzi90rtcfgzu0ot4ck9zzub   \n",
       "*Are you self-employed?*                                                                     1   \n",
       "How many employees does your company or organization have?                                 NaN   \n",
       "Is your employer primarily a tech company/organization?                                    NaN   \n",
       "Is your primary role within your company related to tech/IT?                               NaN   \n",
       "\n",
       "                                                                                           7    \\\n",
       "question                                                                                         \n",
       "#                                                             sics80avlof5gljw4fqrl7sics805x6i   \n",
       "*Are you self-employed?*                                                                     1   \n",
       "How many employees does your company or organization have?                                 NaN   \n",
       "Is your employer primarily a tech company/organization?                                    NaN   \n",
       "Is your primary role within your company related to tech/IT?                               NaN   \n",
       "\n",
       "                                                                                           8    \\\n",
       "question                                                                                         \n",
       "#                                                             rd0ztpn1g47k7bhehrd0ztt4hk3qv0kp   \n",
       "*Are you self-employed?*                                                                     1   \n",
       "How many employees does your company or organization have?                                 NaN   \n",
       "Is your employer primarily a tech company/organization?                                    NaN   \n",
       "Is your primary role within your company related to tech/IT?                               NaN   \n",
       "\n",
       "                                                                                           9    \\\n",
       "question                                                                                         \n",
       "#                                                             qxhj26vbyd7zlgbi1xqxhj26nalmk3sa   \n",
       "*Are you self-employed?*                                                                     1   \n",
       "How many employees does your company or organization have?                                 NaN   \n",
       "Is your employer primarily a tech company/organization?                                    NaN   \n",
       "Is your primary role within your company related to tech/IT?                               NaN   \n",
       "\n",
       "                                                              ...  \\\n",
       "question                                                      ...   \n",
       "#                                                             ...   \n",
       "*Are you self-employed?*                                      ...   \n",
       "How many employees does your company or organization have?    ...   \n",
       "Is your employer primarily a tech company/organization?       ...   \n",
       "Is your primary role within your company related to tech/IT?  ...   \n",
       "\n",
       "                                                                                           170  \\\n",
       "question                                                                                         \n",
       "#                                                             1pn8gueuutq0i3gx1pn8gw3ke9pa00pp   \n",
       "*Are you self-employed?*                                                                     0   \n",
       "How many employees does your company or organization have?                      More than 1000   \n",
       "Is your employer primarily a tech company/organization?                                    0.0   \n",
       "Is your primary role within your company related to tech/IT?                               1.0   \n",
       "\n",
       "                                                                                           171  \\\n",
       "question                                                                                         \n",
       "#                                                             1b1l167vv3dkjlnpgsq1b1l1h2jhn6vf   \n",
       "*Are you self-employed?*                                                                     0   \n",
       "How many employees does your company or organization have?                      More than 1000   \n",
       "Is your employer primarily a tech company/organization?                                    1.0   \n",
       "Is your primary role within your company related to tech/IT?                               1.0   \n",
       "\n",
       "                                                                                           172  \\\n",
       "question                                                                                         \n",
       "#                                                             18pbytb7yblon6nnjh8o18pbytcwj66m   \n",
       "*Are you self-employed?*                                                                     0   \n",
       "How many employees does your company or organization have?                            500-1000   \n",
       "Is your employer primarily a tech company/organization?                                    0.0   \n",
       "Is your primary role within your company related to tech/IT?                               0.0   \n",
       "\n",
       "                                                                                           173  \\\n",
       "question                                                                                         \n",
       "#                                                             15ymmnmxl7jf46oql15ymmltwey4xn1c   \n",
       "*Are you self-employed?*                                                                     0   \n",
       "How many employees does your company or organization have?                              26-100   \n",
       "Is your employer primarily a tech company/organization?                                    1.0   \n",
       "Is your primary role within your company related to tech/IT?                               1.0   \n",
       "\n",
       "                                                                                           174  \\\n",
       "question                                                                                         \n",
       "#                                                             12bjqz066nmgymnctn12bjq90slxyeji   \n",
       "*Are you self-employed?*                                                                     0   \n",
       "How many employees does your company or organization have?                      More than 1000   \n",
       "Is your employer primarily a tech company/organization?                                    1.0   \n",
       "Is your primary role within your company related to tech/IT?                               1.0   \n",
       "\n",
       "                                                                                           175  \\\n",
       "question                                                                                         \n",
       "#                                                             0wrer2048ezmupzx43w90wrer20yc1kw   \n",
       "*Are you self-employed?*                                                                     0   \n",
       "How many employees does your company or organization have?                      More than 1000   \n",
       "Is your employer primarily a tech company/organization?                                    0.0   \n",
       "Is your primary role within your company related to tech/IT?                               1.0   \n",
       "\n",
       "                                                                                           176  \\\n",
       "question                                                                                         \n",
       "#                                                             0uwk39tqe1301annaj00uwk36l3gcj5c   \n",
       "*Are you self-employed?*                                                                     0   \n",
       "How many employees does your company or organization have?                              26-100   \n",
       "Is your employer primarily a tech company/organization?                                    1.0   \n",
       "Is your primary role within your company related to tech/IT?                               1.0   \n",
       "\n",
       "                                                                                           177  \\\n",
       "question                                                                                         \n",
       "#                                                             0one9qodhxn97la0onyoa7723zcfjjcq   \n",
       "*Are you self-employed?*                                                                     0   \n",
       "How many employees does your company or organization have?                             100-500   \n",
       "Is your employer primarily a tech company/organization?                                    1.0   \n",
       "Is your primary role within your company related to tech/IT?                               1.0   \n",
       "\n",
       "                                                                                           178  \\\n",
       "question                                                                                         \n",
       "#                                                             0gwigf5te8921teu30gwigf6l4r66gc9   \n",
       "*Are you self-employed?*                                                                     0   \n",
       "How many employees does your company or organization have?                            500-1000   \n",
       "Is your employer primarily a tech company/organization?                                    0.0   \n",
       "Is your primary role within your company related to tech/IT?                               1.0   \n",
       "\n",
       "                                                                                           179  \n",
       "question                                                                                        \n",
       "#                                                             0ezwd0r69klk35revk0ezwocuudi4f4e  \n",
       "*Are you self-employed?*                                                                     0  \n",
       "How many employees does your company or organization have?                            500-1000  \n",
       "Is your employer primarily a tech company/organization?                                    1.0  \n",
       "Is your primary role within your company related to tech/IT?                               1.0  \n",
       "\n",
       "[5 rows x 180 columns]"
      ]
     },
     "execution_count": 50,
     "metadata": {},
     "output_type": "execute_result"
    }
   ],
   "source": [
    "survey_2020 = survey_2020.T.reset_index()\n",
    "survey_2020.rename(columns={\"index\": \"question\"}, inplace=True)\n",
    "survey_2020.set_index(\"question\", inplace=True)\n",
    "survey_2020.head()"
   ]
  },
  {
   "cell_type": "code",
   "execution_count": 51,
   "id": "9f37942e-c9c6-4175-bf30-ac558da9a03a",
   "metadata": {},
   "outputs": [
    {
     "data": {
      "text/html": [
       "<div>\n",
       "<style scoped>\n",
       "    .dataframe tbody tr th:only-of-type {\n",
       "        vertical-align: middle;\n",
       "    }\n",
       "\n",
       "    .dataframe tbody tr th {\n",
       "        vertical-align: top;\n",
       "    }\n",
       "\n",
       "    .dataframe thead th {\n",
       "        text-align: right;\n",
       "    }\n",
       "</style>\n",
       "<table border=\"1\" class=\"dataframe\">\n",
       "  <thead>\n",
       "    <tr style=\"text-align: right;\">\n",
       "      <th></th>\n",
       "      <th>0</th>\n",
       "      <th>1</th>\n",
       "      <th>2</th>\n",
       "      <th>3</th>\n",
       "      <th>4</th>\n",
       "      <th>5</th>\n",
       "      <th>6</th>\n",
       "      <th>7</th>\n",
       "      <th>8</th>\n",
       "      <th>9</th>\n",
       "      <th>...</th>\n",
       "      <th>170</th>\n",
       "      <th>171</th>\n",
       "      <th>172</th>\n",
       "      <th>173</th>\n",
       "      <th>174</th>\n",
       "      <th>175</th>\n",
       "      <th>176</th>\n",
       "      <th>177</th>\n",
       "      <th>178</th>\n",
       "      <th>179</th>\n",
       "    </tr>\n",
       "    <tr>\n",
       "      <th>question</th>\n",
       "      <th></th>\n",
       "      <th></th>\n",
       "      <th></th>\n",
       "      <th></th>\n",
       "      <th></th>\n",
       "      <th></th>\n",
       "      <th></th>\n",
       "      <th></th>\n",
       "      <th></th>\n",
       "      <th></th>\n",
       "      <th></th>\n",
       "      <th></th>\n",
       "      <th></th>\n",
       "      <th></th>\n",
       "      <th></th>\n",
       "      <th></th>\n",
       "      <th></th>\n",
       "      <th></th>\n",
       "      <th></th>\n",
       "      <th></th>\n",
       "      <th></th>\n",
       "    </tr>\n",
       "  </thead>\n",
       "  <tbody>\n",
       "    <tr>\n",
       "      <th>How many employees does your company or organization have?</th>\n",
       "      <td>NaN</td>\n",
       "      <td>NaN</td>\n",
       "      <td>NaN</td>\n",
       "      <td>NaN</td>\n",
       "      <td>NaN</td>\n",
       "      <td>NaN</td>\n",
       "      <td>NaN</td>\n",
       "      <td>NaN</td>\n",
       "      <td>NaN</td>\n",
       "      <td>NaN</td>\n",
       "      <td>...</td>\n",
       "      <td>More than 1000</td>\n",
       "      <td>More than 1000</td>\n",
       "      <td>500-1000</td>\n",
       "      <td>26-100</td>\n",
       "      <td>More than 1000</td>\n",
       "      <td>More than 1000</td>\n",
       "      <td>26-100</td>\n",
       "      <td>100-500</td>\n",
       "      <td>500-1000</td>\n",
       "      <td>500-1000</td>\n",
       "    </tr>\n",
       "    <tr>\n",
       "      <th>Is your employer primarily a tech company/organization?</th>\n",
       "      <td>NaN</td>\n",
       "      <td>NaN</td>\n",
       "      <td>NaN</td>\n",
       "      <td>NaN</td>\n",
       "      <td>NaN</td>\n",
       "      <td>NaN</td>\n",
       "      <td>NaN</td>\n",
       "      <td>NaN</td>\n",
       "      <td>NaN</td>\n",
       "      <td>NaN</td>\n",
       "      <td>...</td>\n",
       "      <td>0.0</td>\n",
       "      <td>1.0</td>\n",
       "      <td>0.0</td>\n",
       "      <td>1.0</td>\n",
       "      <td>1.0</td>\n",
       "      <td>0.0</td>\n",
       "      <td>1.0</td>\n",
       "      <td>1.0</td>\n",
       "      <td>0.0</td>\n",
       "      <td>1.0</td>\n",
       "    </tr>\n",
       "    <tr>\n",
       "      <th>Is your primary role within your company related to tech/IT?</th>\n",
       "      <td>NaN</td>\n",
       "      <td>NaN</td>\n",
       "      <td>NaN</td>\n",
       "      <td>NaN</td>\n",
       "      <td>NaN</td>\n",
       "      <td>NaN</td>\n",
       "      <td>NaN</td>\n",
       "      <td>NaN</td>\n",
       "      <td>NaN</td>\n",
       "      <td>NaN</td>\n",
       "      <td>...</td>\n",
       "      <td>1.0</td>\n",
       "      <td>1.0</td>\n",
       "      <td>0.0</td>\n",
       "      <td>1.0</td>\n",
       "      <td>1.0</td>\n",
       "      <td>1.0</td>\n",
       "      <td>1.0</td>\n",
       "      <td>1.0</td>\n",
       "      <td>1.0</td>\n",
       "      <td>1.0</td>\n",
       "    </tr>\n",
       "    <tr>\n",
       "      <th>Does your employer provide mental health benefits as part of healthcare coverage?</th>\n",
       "      <td>NaN</td>\n",
       "      <td>NaN</td>\n",
       "      <td>NaN</td>\n",
       "      <td>NaN</td>\n",
       "      <td>NaN</td>\n",
       "      <td>NaN</td>\n",
       "      <td>NaN</td>\n",
       "      <td>NaN</td>\n",
       "      <td>NaN</td>\n",
       "      <td>NaN</td>\n",
       "      <td>...</td>\n",
       "      <td>I don't know</td>\n",
       "      <td>Yes</td>\n",
       "      <td>I don't know</td>\n",
       "      <td>Yes</td>\n",
       "      <td>I don't know</td>\n",
       "      <td>No</td>\n",
       "      <td>Yes</td>\n",
       "      <td>I don't know</td>\n",
       "      <td>Yes</td>\n",
       "      <td>Not eligible for coverage / NA</td>\n",
       "    </tr>\n",
       "    <tr>\n",
       "      <th>Do you know the options for mental health care available under your employer-provided health coverage?</th>\n",
       "      <td>NaN</td>\n",
       "      <td>NaN</td>\n",
       "      <td>NaN</td>\n",
       "      <td>NaN</td>\n",
       "      <td>NaN</td>\n",
       "      <td>NaN</td>\n",
       "      <td>NaN</td>\n",
       "      <td>NaN</td>\n",
       "      <td>NaN</td>\n",
       "      <td>NaN</td>\n",
       "      <td>...</td>\n",
       "      <td>NaN</td>\n",
       "      <td>Yes</td>\n",
       "      <td>No</td>\n",
       "      <td>Yes</td>\n",
       "      <td>No</td>\n",
       "      <td>No</td>\n",
       "      <td>Yes</td>\n",
       "      <td>No</td>\n",
       "      <td>No</td>\n",
       "      <td>NaN</td>\n",
       "    </tr>\n",
       "  </tbody>\n",
       "</table>\n",
       "<p>5 rows × 180 columns</p>\n",
       "</div>"
      ],
      "text/plain": [
       "                                                                                                        0    \\\n",
       "question                                                                                                      \n",
       "How many employees does your company or organization have?                                              NaN   \n",
       "Is your employer primarily a tech company/organization?                                                 NaN   \n",
       "Is your primary role within your company related to tech/IT?                                            NaN   \n",
       "Does your employer provide mental health benefits as part of healthcare coverage?                       NaN   \n",
       "Do you know the options for mental health care available under your employer-provided health coverage?  NaN   \n",
       "\n",
       "                                                                                                        1    \\\n",
       "question                                                                                                      \n",
       "How many employees does your company or organization have?                                              NaN   \n",
       "Is your employer primarily a tech company/organization?                                                 NaN   \n",
       "Is your primary role within your company related to tech/IT?                                            NaN   \n",
       "Does your employer provide mental health benefits as part of healthcare coverage?                       NaN   \n",
       "Do you know the options for mental health care available under your employer-provided health coverage?  NaN   \n",
       "\n",
       "                                                                                                        2    \\\n",
       "question                                                                                                      \n",
       "How many employees does your company or organization have?                                              NaN   \n",
       "Is your employer primarily a tech company/organization?                                                 NaN   \n",
       "Is your primary role within your company related to tech/IT?                                            NaN   \n",
       "Does your employer provide mental health benefits as part of healthcare coverage?                       NaN   \n",
       "Do you know the options for mental health care available under your employer-provided health coverage?  NaN   \n",
       "\n",
       "                                                                                                        3    \\\n",
       "question                                                                                                      \n",
       "How many employees does your company or organization have?                                              NaN   \n",
       "Is your employer primarily a tech company/organization?                                                 NaN   \n",
       "Is your primary role within your company related to tech/IT?                                            NaN   \n",
       "Does your employer provide mental health benefits as part of healthcare coverage?                       NaN   \n",
       "Do you know the options for mental health care available under your employer-provided health coverage?  NaN   \n",
       "\n",
       "                                                                                                        4    \\\n",
       "question                                                                                                      \n",
       "How many employees does your company or organization have?                                              NaN   \n",
       "Is your employer primarily a tech company/organization?                                                 NaN   \n",
       "Is your primary role within your company related to tech/IT?                                            NaN   \n",
       "Does your employer provide mental health benefits as part of healthcare coverage?                       NaN   \n",
       "Do you know the options for mental health care available under your employer-provided health coverage?  NaN   \n",
       "\n",
       "                                                                                                        5    \\\n",
       "question                                                                                                      \n",
       "How many employees does your company or organization have?                                              NaN   \n",
       "Is your employer primarily a tech company/organization?                                                 NaN   \n",
       "Is your primary role within your company related to tech/IT?                                            NaN   \n",
       "Does your employer provide mental health benefits as part of healthcare coverage?                       NaN   \n",
       "Do you know the options for mental health care available under your employer-provided health coverage?  NaN   \n",
       "\n",
       "                                                                                                        6    \\\n",
       "question                                                                                                      \n",
       "How many employees does your company or organization have?                                              NaN   \n",
       "Is your employer primarily a tech company/organization?                                                 NaN   \n",
       "Is your primary role within your company related to tech/IT?                                            NaN   \n",
       "Does your employer provide mental health benefits as part of healthcare coverage?                       NaN   \n",
       "Do you know the options for mental health care available under your employer-provided health coverage?  NaN   \n",
       "\n",
       "                                                                                                        7    \\\n",
       "question                                                                                                      \n",
       "How many employees does your company or organization have?                                              NaN   \n",
       "Is your employer primarily a tech company/organization?                                                 NaN   \n",
       "Is your primary role within your company related to tech/IT?                                            NaN   \n",
       "Does your employer provide mental health benefits as part of healthcare coverage?                       NaN   \n",
       "Do you know the options for mental health care available under your employer-provided health coverage?  NaN   \n",
       "\n",
       "                                                                                                        8    \\\n",
       "question                                                                                                      \n",
       "How many employees does your company or organization have?                                              NaN   \n",
       "Is your employer primarily a tech company/organization?                                                 NaN   \n",
       "Is your primary role within your company related to tech/IT?                                            NaN   \n",
       "Does your employer provide mental health benefits as part of healthcare coverage?                       NaN   \n",
       "Do you know the options for mental health care available under your employer-provided health coverage?  NaN   \n",
       "\n",
       "                                                                                                        9    \\\n",
       "question                                                                                                      \n",
       "How many employees does your company or organization have?                                              NaN   \n",
       "Is your employer primarily a tech company/organization?                                                 NaN   \n",
       "Is your primary role within your company related to tech/IT?                                            NaN   \n",
       "Does your employer provide mental health benefits as part of healthcare coverage?                       NaN   \n",
       "Do you know the options for mental health care available under your employer-provided health coverage?  NaN   \n",
       "\n",
       "                                                                                                        ...  \\\n",
       "question                                                                                                ...   \n",
       "How many employees does your company or organization have?                                              ...   \n",
       "Is your employer primarily a tech company/organization?                                                 ...   \n",
       "Is your primary role within your company related to tech/IT?                                            ...   \n",
       "Does your employer provide mental health benefits as part of healthcare coverage?                       ...   \n",
       "Do you know the options for mental health care available under your employer-provided health coverage?  ...   \n",
       "\n",
       "                                                                                                                   170  \\\n",
       "question                                                                                                                 \n",
       "How many employees does your company or organization have?                                              More than 1000   \n",
       "Is your employer primarily a tech company/organization?                                                            0.0   \n",
       "Is your primary role within your company related to tech/IT?                                                       1.0   \n",
       "Does your employer provide mental health benefits as part of healthcare coverage?                         I don't know   \n",
       "Do you know the options for mental health care available under your employer-provided health coverage?             NaN   \n",
       "\n",
       "                                                                                                                   171  \\\n",
       "question                                                                                                                 \n",
       "How many employees does your company or organization have?                                              More than 1000   \n",
       "Is your employer primarily a tech company/organization?                                                            1.0   \n",
       "Is your primary role within your company related to tech/IT?                                                       1.0   \n",
       "Does your employer provide mental health benefits as part of healthcare coverage?                                  Yes   \n",
       "Do you know the options for mental health care available under your employer-provided health coverage?             Yes   \n",
       "\n",
       "                                                                                                                 172  \\\n",
       "question                                                                                                               \n",
       "How many employees does your company or organization have?                                                  500-1000   \n",
       "Is your employer primarily a tech company/organization?                                                          0.0   \n",
       "Is your primary role within your company related to tech/IT?                                                     0.0   \n",
       "Does your employer provide mental health benefits as part of healthcare coverage?                       I don't know   \n",
       "Do you know the options for mental health care available under your employer-provided health coverage?            No   \n",
       "\n",
       "                                                                                                           173  \\\n",
       "question                                                                                                         \n",
       "How many employees does your company or organization have?                                              26-100   \n",
       "Is your employer primarily a tech company/organization?                                                    1.0   \n",
       "Is your primary role within your company related to tech/IT?                                               1.0   \n",
       "Does your employer provide mental health benefits as part of healthcare coverage?                          Yes   \n",
       "Do you know the options for mental health care available under your employer-provided health coverage?     Yes   \n",
       "\n",
       "                                                                                                                   174  \\\n",
       "question                                                                                                                 \n",
       "How many employees does your company or organization have?                                              More than 1000   \n",
       "Is your employer primarily a tech company/organization?                                                            1.0   \n",
       "Is your primary role within your company related to tech/IT?                                                       1.0   \n",
       "Does your employer provide mental health benefits as part of healthcare coverage?                         I don't know   \n",
       "Do you know the options for mental health care available under your employer-provided health coverage?              No   \n",
       "\n",
       "                                                                                                                   175  \\\n",
       "question                                                                                                                 \n",
       "How many employees does your company or organization have?                                              More than 1000   \n",
       "Is your employer primarily a tech company/organization?                                                            0.0   \n",
       "Is your primary role within your company related to tech/IT?                                                       1.0   \n",
       "Does your employer provide mental health benefits as part of healthcare coverage?                                   No   \n",
       "Do you know the options for mental health care available under your employer-provided health coverage?              No   \n",
       "\n",
       "                                                                                                           176  \\\n",
       "question                                                                                                         \n",
       "How many employees does your company or organization have?                                              26-100   \n",
       "Is your employer primarily a tech company/organization?                                                    1.0   \n",
       "Is your primary role within your company related to tech/IT?                                               1.0   \n",
       "Does your employer provide mental health benefits as part of healthcare coverage?                          Yes   \n",
       "Do you know the options for mental health care available under your employer-provided health coverage?     Yes   \n",
       "\n",
       "                                                                                                                 177  \\\n",
       "question                                                                                                               \n",
       "How many employees does your company or organization have?                                                   100-500   \n",
       "Is your employer primarily a tech company/organization?                                                          1.0   \n",
       "Is your primary role within your company related to tech/IT?                                                     1.0   \n",
       "Does your employer provide mental health benefits as part of healthcare coverage?                       I don't know   \n",
       "Do you know the options for mental health care available under your employer-provided health coverage?            No   \n",
       "\n",
       "                                                                                                             178  \\\n",
       "question                                                                                                           \n",
       "How many employees does your company or organization have?                                              500-1000   \n",
       "Is your employer primarily a tech company/organization?                                                      0.0   \n",
       "Is your primary role within your company related to tech/IT?                                                 1.0   \n",
       "Does your employer provide mental health benefits as part of healthcare coverage?                            Yes   \n",
       "Do you know the options for mental health care available under your employer-provided health coverage?        No   \n",
       "\n",
       "                                                                                                                                   179  \n",
       "question                                                                                                                                \n",
       "How many employees does your company or organization have?                                                                    500-1000  \n",
       "Is your employer primarily a tech company/organization?                                                                            1.0  \n",
       "Is your primary role within your company related to tech/IT?                                                                       1.0  \n",
       "Does your employer provide mental health benefits as part of healthcare coverage?                       Not eligible for coverage / NA  \n",
       "Do you know the options for mental health care available under your employer-provided health coverage?                             NaN  \n",
       "\n",
       "[5 rows x 180 columns]"
      ]
     },
     "execution_count": 51,
     "metadata": {},
     "output_type": "execute_result"
    }
   ],
   "source": [
    "survey_2020 = survey_2020[survey_2020.index.isin(all_questions)]\n",
    "survey_2020.head()"
   ]
  },
  {
   "cell_type": "code",
   "execution_count": 52,
   "id": "8ee98747-17e9-4337-a573-91b9aae573df",
   "metadata": {},
   "outputs": [],
   "source": [
    "gender_2020 = get_answers_2020(\"What is your gender?\")"
   ]
  },
  {
   "cell_type": "code",
   "execution_count": 53,
   "id": "1f04e9b5-6398-45d8-b91a-9b15dc7780dc",
   "metadata": {},
   "outputs": [],
   "source": [
    "male = gender_2020[\n",
    "    [\"M\", \"MAle\", \"cisgender male\", \"m\", \"mail\", \"male\", \"mostly male\"]\n",
    "].sum()\n",
    "female = gender_2020[[\"F\", \"FEMALE\", \"f\", \"female, she/her\", \"female\"]].sum()"
   ]
  },
  {
   "cell_type": "code",
   "execution_count": 54,
   "id": "f4c34bb3-2be9-4171-9e41-0dc3244c93b4",
   "metadata": {},
   "outputs": [],
   "source": [
    "gender_2020 = gender_2020[[\"Male\", \"Female\"]]"
   ]
  },
  {
   "cell_type": "code",
   "execution_count": 55,
   "id": "5f90bae0-0320-486e-a1be-c8e25c65dc41",
   "metadata": {},
   "outputs": [],
   "source": [
    "gender_2020[\"Male\"] += male\n",
    "gender_2020[\"Female\"] += female"
   ]
  },
  {
   "cell_type": "code",
   "execution_count": 56,
   "id": "5bfc6471-b884-4c7a-b4ff-6ef4376728c6",
   "metadata": {},
   "outputs": [
    {
     "data": {
      "image/png": "[encoded data removed]",
      "text/plain": [
       "<Figure size 720x720 with 1 Axes>"
      ]
     },
     "metadata": {},
     "output_type": "display_data"
    }
   ],
   "source": [
    "plot_barchart(\"Gender\", gender_2020)"
   ]
  },
  {
   "cell_type": "code",
   "execution_count": 57,
   "id": "e4c52b7b-0f49-4b84-876e-2e201e72c8b9",
   "metadata": {},
   "outputs": [
    {
     "name": "stdout",
     "output_type": "stream",
     "text": [
      "Percentage of Males: 65.91%\n"
     ]
    }
   ],
   "source": [
    "male_percentage = round((gender_2020[\"Male\"] / gender_2020.sum()) * 100, 2)\n",
    "print(f\"Percentage of Males: {male_percentage}%\")"
   ]
  },
  {
   "cell_type": "markdown",
   "id": "f04a966d-aaf9-4b8c-8551-c996436147d3",
   "metadata": {},
   "source": [
    "The percentage of Males to Females is similar to the other dataset"
   ]
  },
  {
   "cell_type": "code",
   "execution_count": 58,
   "id": "77c767a3-2945-42e0-bc52-e2863e101501",
   "metadata": {},
   "outputs": [
    {
     "data": {
      "text/plain": [
       "False"
      ]
     },
     "execution_count": 58,
     "metadata": {},
     "output_type": "execute_result"
    }
   ],
   "source": [
    "(survey_2020.index == \"Do you work remotely?\").any()"
   ]
  },
  {
   "cell_type": "markdown",
   "id": "ee0baf23-035a-4917-b8db-bb4b9b544b3d",
   "metadata": {},
   "source": [
    "It looks like there's no question in the 2020 survey table that asks if they work remotely. But since we know that most of the participants in the survey are from the US, I found what percentage of people were working remotely by the end of 2020. https://resources.owllabs.com/state-of-remote-work/2020 and the result is about 69% working from home."
   ]
  },
  {
   "cell_type": "markdown",
   "id": "b53a8a10-2584-489d-b9b5-216462b03cd3",
   "metadata": {},
   "source": [
    "Number of remote workers in the 2014-2019 surveys:"
   ]
  },
  {
   "cell_type": "code",
   "execution_count": 59,
   "id": "21e84467-17ee-4eeb-9b12-333acb87ba19",
   "metadata": {},
   "outputs": [
    {
     "data": {
      "text/plain": [
       "answer\n",
       "Sometimes    757\n",
       "Always       343\n",
       "Never        333\n",
       "dtype: int64"
      ]
     },
     "execution_count": 59,
     "metadata": {},
     "output_type": "execute_result"
    }
   ],
   "source": [
    "remote = get_answers(\"Do you work remotely?\")\n",
    "remote"
   ]
  },
  {
   "cell_type": "code",
   "execution_count": 60,
   "id": "67d4b911-598b-4f2f-a323-76e0e85e505f",
   "metadata": {},
   "outputs": [
    {
     "data": {
      "image/png": "[encoded data removed]",
      "text/plain": [
       "<Figure size 720x720 with 1 Axes>"
      ]
     },
     "metadata": {},
     "output_type": "display_data"
    }
   ],
   "source": [
    "plot_barchart(\"Do you work remotely?\", remote)"
   ]
  },
  {
   "cell_type": "code",
   "execution_count": 61,
   "id": "5c46d81a-562c-4ce9-96d0-968788c27bd2",
   "metadata": {},
   "outputs": [
    {
     "name": "stdout",
     "output_type": "stream",
     "text": [
      "Percentage working remotely between 2014-2019: 23.94%\n"
     ]
    }
   ],
   "source": [
    "remote_percent = round((remote[\"Always\"] / remote.sum()) * 100, 2)\n",
    "print(f\"Percentage working remotely between 2014-2019: {remote_percent}%\")"
   ]
  },
  {
   "cell_type": "markdown",
   "id": "8ce41479-e691-4dfd-a5c7-91cc10bc4b65",
   "metadata": {},
   "source": [
    "So the percentage of remote workers at the end of 2020 is nearly 3 times the amount from the previous surveys"
   ]
  },
  {
   "cell_type": "code",
   "execution_count": 62,
   "id": "286bbf6c-8d01-43f7-880d-0771e12a6f4f",
   "metadata": {},
   "outputs": [
    {
     "data": {
      "text/plain": [
       "answer\n",
       "Easy            0.465770\n",
       "Difficult       0.193969\n",
       "I don't know    0.294621\n",
       "dtype: float64"
      ]
     },
     "execution_count": 62,
     "metadata": {},
     "output_type": "execute_result"
    }
   ],
   "source": [
    "leave = get_answers(\n",
    "    \"If a mental health issue prompted you to request a medical leave from work, how easy or difficult would it be to ask for that leave?\"\n",
    ")\n",
    "leave_percent = leave / leave.sum()\n",
    "leave_percent[\"Easy\"] = leave_percent[[\"Somewhat easy\", \"Very easy\"]].sum()\n",
    "leave_percent[\"Difficult\"] = leave_percent[\n",
    "    [\"Somewhat difficult\", \"Very difficult\"]\n",
    "].sum()\n",
    "leave_percent[\"I don't know\"] += leave_percent[\"Neither easy nor difficult\"]\n",
    "leave_percent = leave_percent[[\"Easy\", \"Difficult\", \"I don't know\"]]\n",
    "leave_percent"
   ]
  },
  {
   "cell_type": "code",
   "execution_count": 63,
   "id": "fb9824e4-1d0f-43db-96f0-700535506f4d",
   "metadata": {},
   "outputs": [
    {
     "data": {
      "text/plain": [
       "If a mental health issue prompted you to request a medical leave from work, how easy or difficult would it be to ask for that leave?\n",
       "Easy            0.477419\n",
       "Difficult       0.277419\n",
       "I don't know    0.245161\n",
       "dtype: float64"
      ]
     },
     "execution_count": 63,
     "metadata": {},
     "output_type": "execute_result"
    }
   ],
   "source": [
    "leave_2020 = get_answers_2020(\n",
    "    \"If a mental health issue prompted you to request a medical leave from work, how easy or difficult would it be to ask for that leave?\"\n",
    ")\n",
    "leave_2020_percent = leave_2020 / leave_2020.sum()\n",
    "leave_2020_percent[\"Easy\"] = leave_2020_percent[[\"Somewhat easy\", \"Very easy\"]].sum()\n",
    "leave_2020_percent[\"Difficult\"] += leave_2020_percent[\"Somewhat difficult\"]\n",
    "leave_2020_percent[\"I don't know\"] += leave_2020_percent[\"Neither easy nor difficult\"]\n",
    "leave_2020_percent = leave_2020_percent[[\"Easy\", \"Difficult\", \"I don't know\"]]\n",
    "leave_2020_percent"
   ]
  },
  {
   "cell_type": "code",
   "execution_count": 67,
   "id": "da3f8057-e8c3-4bf4-a23b-7dcfdace7bf6",
   "metadata": {},
   "outputs": [
    {
     "data": {
      "image/png": "[encoded data removed]",
      "text/plain": [
       "<Figure size 720x720 with 1 Axes>"
      ]
     },
     "metadata": {},
     "output_type": "display_data"
    }
   ],
   "source": [
    "leave_bar = leave_percent.values\n",
    "leave_2020_bar = leave_2020_percent.values\n",
    "\n",
    "x = np.arange(3)\n",
    "width = 0.3\n",
    "\n",
    "plt.bar(x, leave_bar, width, label=\"2014-2019\")\n",
    "plt.bar(x + width, leave_2020_bar, width, label=\"2020\")\n",
    "\n",
    "plt.xlabel(\"Difficulty\")\n",
    "plt.ylabel(\"Percentage\")\n",
    "plt.title(\"Difficulty of asking for leave for a mental health issue\")\n",
    "\n",
    "plt.xticks(np.arange(3) + 0.15, (\"Easy\", \"Difficult\", \"I don't know\"))\n",
    "\n",
    "plt.legend(loc=\"best\")\n",
    "plt.show()"
   ]
  },
  {
   "cell_type": "markdown",
   "id": "3ee1bf5c-0aad-433f-9b54-51dec53480d2",
   "metadata": {},
   "source": [
    "So is there an significant change in difficulty to ask for leave in 2020?"
   ]
  },
  {
   "cell_type": "code",
   "execution_count": null,
   "id": "59f8261b-6b77-45e3-a499-0a81280df30b",
   "metadata": {},
   "outputs": [],
   "source": [
    "leave_percent = leave_percent[\"Difficult\"] * 100\n",
    "leave_2020_percent = leave_2020_percent[\"Difficult\"] * 100\n",
    "difference = round(leave_2020_percent - leave_percent, 2)\n",
    "print(\n",
    "    f\"\"\"\n",
    "    Sample size of 2014-2019: {sum(leave)}, percentage that find asking for leave difficult: {round(leave_percent, 2)}%\n",
    "    Sample size of 2020: {sum(leave_2020)}, percentage that find asking for leave difficult: {round(leave_2020_percent, 2)}%\n",
    "    Difference: {difference}%\n",
    "    \"\"\"\n",
    ")"
   ]
  },
  {
   "cell_type": "markdown",
   "id": "75e3e64c-3210-4008-9bac-55e43fc51b07",
   "metadata": {},
   "source": [
    "## Conclusion"
   ]
  },
  {
   "cell_type": "markdown",
   "id": "50096f27-aaf8-4012-9109-02dfb7000715",
   "metadata": {},
   "source": [
    "The overall trend we're seeing here is that the whole idea of mental health needs pushed to be a normal topic of conversation with your employer or coworkers, just like any any physical issue would be. This would help those with mental health issues feel more comfortable in the workplace, especially now that companies are becoming more disconnected due to the increase in remote working. Because of this huge change, I'm expecting the results of the 2020 OSMI survey to be very different."
   ]
  }
 ],
 "metadata": {
  "kernelspec": {
   "display_name": "Python 3",
   "language": "python",
   "name": "python3"
  },
  "language_info": {
   "codemirror_mode": {
    "name": "ipython",
    "version": 3
   },
   "file_extension": ".py",
   "mimetype": "text/x-python",
   "name": "python",
   "nbconvert_exporter": "python",
   "pygments_lexer": "ipython3",
   "version": "3.9.5"
  },
  "toc-autonumbering": false
 },
 "nbformat": 4,
 "nbformat_minor": 5
}
